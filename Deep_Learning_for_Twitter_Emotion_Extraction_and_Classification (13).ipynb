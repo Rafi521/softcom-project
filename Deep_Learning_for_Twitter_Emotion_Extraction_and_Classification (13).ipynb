{
  "nbformat": 4,
  "nbformat_minor": 0,
  "metadata": {
    "kernelspec": {
      "display_name": "Python 3",
      "name": "python3"
    },
    "language_info": {
      "name": "python",
      "version": "3.7.10",
      "mimetype": "text/x-python",
      "codemirror_mode": {
        "name": "ipython",
        "version": 3
      },
      "pygments_lexer": "ipython3",
      "nbconvert_exporter": "python",
      "file_extension": ".py"
    },
    "colab": {
      "provenance": [],
      "gpuType": "T4"
    },
    "accelerator": "GPU"
  },
  "cells": [
    {
      "cell_type": "code",
      "metadata": {
        "_uuid": "abb7e3c30b8a412a50c6b451c49939e3cf4bc11b",
        "scrolled": true,
        "execution": {
          "iopub.status.busy": "2021-09-30T19:34:39.342715Z",
          "iopub.execute_input": "2021-09-30T19:34:39.343017Z",
          "iopub.status.idle": "2021-09-30T19:34:49.336440Z",
          "shell.execute_reply.started": "2021-09-30T19:34:39.342940Z",
          "shell.execute_reply": "2021-09-30T19:34:49.335714Z"
        },
        "trusted": true,
        "id": "OP-hoLaIcv-K"
      },
      "source": [
        "import random\n",
        "import time\n",
        "import pandas as pd\n",
        "import numpy as np\n",
        "import re\n",
        "import torch\n",
        "import string\n",
        "\n",
        "import torch.nn as nn\n",
        "import torch.optim as optim\n",
        "import torch.nn.functional as F\n",
        "from torch.utils.data import Dataset, DataLoader\n",
        "from torch.nn.utils.rnn import pack_padded_sequence, pad_packed_sequence\n",
        "\n",
        "from sklearn.metrics import accuracy_score\n",
        "from sklearn.metrics import precision_score\n",
        "from sklearn.metrics import recall_score\n",
        "from sklearn.metrics import f1_score\n",
        "\n",
        "from tensorflow. keras.preprocessing.text import Tokenizer\n",
        "from tensorflow.keras.preprocessing.sequence import pad_sequences\n",
        "\n",
        "from torch.optim.optimizer import Optimizer\n",
        "\n",
        "import matplotlib.pyplot as plt\n",
        "from sklearn.metrics import confusion_matrix, ConfusionMatrixDisplay\n",
        "import warnings\n",
        "warnings.filterwarnings(\"ignore\")\n",
        "\n",
        "root_path = \"/content/drive/MyDrive/softcom project\""
      ],
      "execution_count": null,
      "outputs": []
    },
    {
      "cell_type": "code",
      "metadata": {
        "colab": {
          "base_uri": "https://localhost:8080/"
        },
        "id": "5S1WZGesc3pz",
        "outputId": "f6b22727-34c6-4454-d853-6e43f4c2f564"
      },
      "source": [
        "from google.colab import drive\n",
        "drive.mount('/content/drive')"
      ],
      "execution_count": null,
      "outputs": [
        {
          "output_type": "stream",
          "name": "stdout",
          "text": [
            "Mounted at /content/drive\n"
          ]
        }
      ]
    },
    {
      "cell_type": "markdown",
      "metadata": {
        "_uuid": "9a4ff5590a6f152dc1bec5aeca79aef10218f7de",
        "id": "kxIsxJ-7cv-P"
      },
      "source": [
        "### Parameters"
      ]
    },
    {
      "cell_type": "code",
      "metadata": {
        "_uuid": "deee49df5ca1c4413f71677939e26aa1ff784e44",
        "scrolled": true,
        "execution": {
          "iopub.status.busy": "2021-09-30T19:34:49.339634Z",
          "iopub.execute_input": "2021-09-30T19:34:49.339837Z",
          "iopub.status.idle": "2021-09-30T19:34:49.346685Z",
          "shell.execute_reply.started": "2021-09-30T19:34:49.339813Z",
          "shell.execute_reply": "2021-09-30T19:34:49.346054Z"
        },
        "trusted": true,
        "id": "p6DA-wUHcv-R"
      },
      "source": [
        "embed_size = 300 # how big is each word vector\n",
        "max_features = 100000 # how many unique words to use (i.e num rows in embedding vector)\n",
        "maxlen = 70 # max number of words in a question to use"
      ],
      "execution_count": null,
      "outputs": []
    },
    {
      "cell_type": "markdown",
      "metadata": {
        "id": "K5U76nNyWG2e"
      },
      "source": [
        "# 1. Dataset"
      ]
    },
    {
      "cell_type": "code",
      "metadata": {
        "execution": {
          "iopub.status.busy": "2021-09-30T19:34:50.783076Z",
          "iopub.execute_input": "2021-09-30T19:34:50.783622Z",
          "iopub.status.idle": "2021-09-30T19:34:50.858030Z",
          "shell.execute_reply.started": "2021-09-30T19:34:50.783582Z",
          "shell.execute_reply": "2021-09-30T19:34:50.857366Z"
        },
        "trusted": true,
        "id": "tM121Auicv-S",
        "colab": {
          "base_uri": "https://localhost:8080/",
          "height": 206
        },
        "outputId": "36b3f82e-b0ae-4c72-bdcd-e71254ea7ffe"
      },
      "source": [
        "data = pd.read_csv(\"/content/drive/MyDrive/softcom project/Dataset/text_emotions.csv\")\n",
        "data.head()"
      ],
      "execution_count": null,
      "outputs": [
        {
          "output_type": "execute_result",
          "data": {
            "text/plain": [
              "                                             content sentiment\n",
              "0                            i didnt feel humiliated   sadness\n",
              "1  i can go from feeling so hopeless to so damned...   sadness\n",
              "2   im grabbing a minute to post i feel greedy wrong     anger\n",
              "3  i am ever feeling nostalgic about the fireplac...      love\n",
              "4                               i am feeling grouchy     anger"
            ],
            "text/html": [
              "\n",
              "  <div id=\"df-1b47f784-a6fb-4ecf-9068-4cb5ae4c6914\" class=\"colab-df-container\">\n",
              "    <div>\n",
              "<style scoped>\n",
              "    .dataframe tbody tr th:only-of-type {\n",
              "        vertical-align: middle;\n",
              "    }\n",
              "\n",
              "    .dataframe tbody tr th {\n",
              "        vertical-align: top;\n",
              "    }\n",
              "\n",
              "    .dataframe thead th {\n",
              "        text-align: right;\n",
              "    }\n",
              "</style>\n",
              "<table border=\"1\" class=\"dataframe\">\n",
              "  <thead>\n",
              "    <tr style=\"text-align: right;\">\n",
              "      <th></th>\n",
              "      <th>content</th>\n",
              "      <th>sentiment</th>\n",
              "    </tr>\n",
              "  </thead>\n",
              "  <tbody>\n",
              "    <tr>\n",
              "      <th>0</th>\n",
              "      <td>i didnt feel humiliated</td>\n",
              "      <td>sadness</td>\n",
              "    </tr>\n",
              "    <tr>\n",
              "      <th>1</th>\n",
              "      <td>i can go from feeling so hopeless to so damned...</td>\n",
              "      <td>sadness</td>\n",
              "    </tr>\n",
              "    <tr>\n",
              "      <th>2</th>\n",
              "      <td>im grabbing a minute to post i feel greedy wrong</td>\n",
              "      <td>anger</td>\n",
              "    </tr>\n",
              "    <tr>\n",
              "      <th>3</th>\n",
              "      <td>i am ever feeling nostalgic about the fireplac...</td>\n",
              "      <td>love</td>\n",
              "    </tr>\n",
              "    <tr>\n",
              "      <th>4</th>\n",
              "      <td>i am feeling grouchy</td>\n",
              "      <td>anger</td>\n",
              "    </tr>\n",
              "  </tbody>\n",
              "</table>\n",
              "</div>\n",
              "    <div class=\"colab-df-buttons\">\n",
              "\n",
              "  <div class=\"colab-df-container\">\n",
              "    <button class=\"colab-df-convert\" onclick=\"convertToInteractive('df-1b47f784-a6fb-4ecf-9068-4cb5ae4c6914')\"\n",
              "            title=\"Convert this dataframe to an interactive table.\"\n",
              "            style=\"display:none;\">\n",
              "\n",
              "  <svg xmlns=\"http://www.w3.org/2000/svg\" height=\"24px\" viewBox=\"0 -960 960 960\">\n",
              "    <path d=\"M120-120v-720h720v720H120Zm60-500h600v-160H180v160Zm220 220h160v-160H400v160Zm0 220h160v-160H400v160ZM180-400h160v-160H180v160Zm440 0h160v-160H620v160ZM180-180h160v-160H180v160Zm440 0h160v-160H620v160Z\"/>\n",
              "  </svg>\n",
              "    </button>\n",
              "\n",
              "  <style>\n",
              "    .colab-df-container {\n",
              "      display:flex;\n",
              "      gap: 12px;\n",
              "    }\n",
              "\n",
              "    .colab-df-convert {\n",
              "      background-color: #E8F0FE;\n",
              "      border: none;\n",
              "      border-radius: 50%;\n",
              "      cursor: pointer;\n",
              "      display: none;\n",
              "      fill: #1967D2;\n",
              "      height: 32px;\n",
              "      padding: 0 0 0 0;\n",
              "      width: 32px;\n",
              "    }\n",
              "\n",
              "    .colab-df-convert:hover {\n",
              "      background-color: #E2EBFA;\n",
              "      box-shadow: 0px 1px 2px rgba(60, 64, 67, 0.3), 0px 1px 3px 1px rgba(60, 64, 67, 0.15);\n",
              "      fill: #174EA6;\n",
              "    }\n",
              "\n",
              "    .colab-df-buttons div {\n",
              "      margin-bottom: 4px;\n",
              "    }\n",
              "\n",
              "    [theme=dark] .colab-df-convert {\n",
              "      background-color: #3B4455;\n",
              "      fill: #D2E3FC;\n",
              "    }\n",
              "\n",
              "    [theme=dark] .colab-df-convert:hover {\n",
              "      background-color: #434B5C;\n",
              "      box-shadow: 0px 1px 3px 1px rgba(0, 0, 0, 0.15);\n",
              "      filter: drop-shadow(0px 1px 2px rgba(0, 0, 0, 0.3));\n",
              "      fill: #FFFFFF;\n",
              "    }\n",
              "  </style>\n",
              "\n",
              "    <script>\n",
              "      const buttonEl =\n",
              "        document.querySelector('#df-1b47f784-a6fb-4ecf-9068-4cb5ae4c6914 button.colab-df-convert');\n",
              "      buttonEl.style.display =\n",
              "        google.colab.kernel.accessAllowed ? 'block' : 'none';\n",
              "\n",
              "      async function convertToInteractive(key) {\n",
              "        const element = document.querySelector('#df-1b47f784-a6fb-4ecf-9068-4cb5ae4c6914');\n",
              "        const dataTable =\n",
              "          await google.colab.kernel.invokeFunction('convertToInteractive',\n",
              "                                                    [key], {});\n",
              "        if (!dataTable) return;\n",
              "\n",
              "        const docLinkHtml = 'Like what you see? Visit the ' +\n",
              "          '<a target=\"_blank\" href=https://colab.research.google.com/notebooks/data_table.ipynb>data table notebook</a>'\n",
              "          + ' to learn more about interactive tables.';\n",
              "        element.innerHTML = '';\n",
              "        dataTable['output_type'] = 'display_data';\n",
              "        await google.colab.output.renderOutput(dataTable, element);\n",
              "        const docLink = document.createElement('div');\n",
              "        docLink.innerHTML = docLinkHtml;\n",
              "        element.appendChild(docLink);\n",
              "      }\n",
              "    </script>\n",
              "  </div>\n",
              "\n",
              "\n",
              "<div id=\"df-ddb9252c-eeca-4454-9c68-4fdd0f7fa41f\">\n",
              "  <button class=\"colab-df-quickchart\" onclick=\"quickchart('df-ddb9252c-eeca-4454-9c68-4fdd0f7fa41f')\"\n",
              "            title=\"Suggest charts\"\n",
              "            style=\"display:none;\">\n",
              "\n",
              "<svg xmlns=\"http://www.w3.org/2000/svg\" height=\"24px\"viewBox=\"0 0 24 24\"\n",
              "     width=\"24px\">\n",
              "    <g>\n",
              "        <path d=\"M19 3H5c-1.1 0-2 .9-2 2v14c0 1.1.9 2 2 2h14c1.1 0 2-.9 2-2V5c0-1.1-.9-2-2-2zM9 17H7v-7h2v7zm4 0h-2V7h2v10zm4 0h-2v-4h2v4z\"/>\n",
              "    </g>\n",
              "</svg>\n",
              "  </button>\n",
              "\n",
              "<style>\n",
              "  .colab-df-quickchart {\n",
              "      --bg-color: #E8F0FE;\n",
              "      --fill-color: #1967D2;\n",
              "      --hover-bg-color: #E2EBFA;\n",
              "      --hover-fill-color: #174EA6;\n",
              "      --disabled-fill-color: #AAA;\n",
              "      --disabled-bg-color: #DDD;\n",
              "  }\n",
              "\n",
              "  [theme=dark] .colab-df-quickchart {\n",
              "      --bg-color: #3B4455;\n",
              "      --fill-color: #D2E3FC;\n",
              "      --hover-bg-color: #434B5C;\n",
              "      --hover-fill-color: #FFFFFF;\n",
              "      --disabled-bg-color: #3B4455;\n",
              "      --disabled-fill-color: #666;\n",
              "  }\n",
              "\n",
              "  .colab-df-quickchart {\n",
              "    background-color: var(--bg-color);\n",
              "    border: none;\n",
              "    border-radius: 50%;\n",
              "    cursor: pointer;\n",
              "    display: none;\n",
              "    fill: var(--fill-color);\n",
              "    height: 32px;\n",
              "    padding: 0;\n",
              "    width: 32px;\n",
              "  }\n",
              "\n",
              "  .colab-df-quickchart:hover {\n",
              "    background-color: var(--hover-bg-color);\n",
              "    box-shadow: 0 1px 2px rgba(60, 64, 67, 0.3), 0 1px 3px 1px rgba(60, 64, 67, 0.15);\n",
              "    fill: var(--button-hover-fill-color);\n",
              "  }\n",
              "\n",
              "  .colab-df-quickchart-complete:disabled,\n",
              "  .colab-df-quickchart-complete:disabled:hover {\n",
              "    background-color: var(--disabled-bg-color);\n",
              "    fill: var(--disabled-fill-color);\n",
              "    box-shadow: none;\n",
              "  }\n",
              "\n",
              "  .colab-df-spinner {\n",
              "    border: 2px solid var(--fill-color);\n",
              "    border-color: transparent;\n",
              "    border-bottom-color: var(--fill-color);\n",
              "    animation:\n",
              "      spin 1s steps(1) infinite;\n",
              "  }\n",
              "\n",
              "  @keyframes spin {\n",
              "    0% {\n",
              "      border-color: transparent;\n",
              "      border-bottom-color: var(--fill-color);\n",
              "      border-left-color: var(--fill-color);\n",
              "    }\n",
              "    20% {\n",
              "      border-color: transparent;\n",
              "      border-left-color: var(--fill-color);\n",
              "      border-top-color: var(--fill-color);\n",
              "    }\n",
              "    30% {\n",
              "      border-color: transparent;\n",
              "      border-left-color: var(--fill-color);\n",
              "      border-top-color: var(--fill-color);\n",
              "      border-right-color: var(--fill-color);\n",
              "    }\n",
              "    40% {\n",
              "      border-color: transparent;\n",
              "      border-right-color: var(--fill-color);\n",
              "      border-top-color: var(--fill-color);\n",
              "    }\n",
              "    60% {\n",
              "      border-color: transparent;\n",
              "      border-right-color: var(--fill-color);\n",
              "    }\n",
              "    80% {\n",
              "      border-color: transparent;\n",
              "      border-right-color: var(--fill-color);\n",
              "      border-bottom-color: var(--fill-color);\n",
              "    }\n",
              "    90% {\n",
              "      border-color: transparent;\n",
              "      border-bottom-color: var(--fill-color);\n",
              "    }\n",
              "  }\n",
              "</style>\n",
              "\n",
              "  <script>\n",
              "    async function quickchart(key) {\n",
              "      const quickchartButtonEl =\n",
              "        document.querySelector('#' + key + ' button');\n",
              "      quickchartButtonEl.disabled = true;  // To prevent multiple clicks.\n",
              "      quickchartButtonEl.classList.add('colab-df-spinner');\n",
              "      try {\n",
              "        const charts = await google.colab.kernel.invokeFunction(\n",
              "            'suggestCharts', [key], {});\n",
              "      } catch (error) {\n",
              "        console.error('Error during call to suggestCharts:', error);\n",
              "      }\n",
              "      quickchartButtonEl.classList.remove('colab-df-spinner');\n",
              "      quickchartButtonEl.classList.add('colab-df-quickchart-complete');\n",
              "    }\n",
              "    (() => {\n",
              "      let quickchartButtonEl =\n",
              "        document.querySelector('#df-ddb9252c-eeca-4454-9c68-4fdd0f7fa41f button');\n",
              "      quickchartButtonEl.style.display =\n",
              "        google.colab.kernel.accessAllowed ? 'block' : 'none';\n",
              "    })();\n",
              "  </script>\n",
              "</div>\n",
              "    </div>\n",
              "  </div>\n"
            ]
          },
          "metadata": {},
          "execution_count": 4
        }
      ]
    },
    {
      "cell_type": "markdown",
      "metadata": {
        "id": "W8slpbbLcv-Y"
      },
      "source": [
        "## 1.1 Finding the Length"
      ]
    },
    {
      "cell_type": "code",
      "metadata": {
        "execution": {
          "iopub.status.busy": "2021-09-30T19:34:55.033142Z",
          "iopub.execute_input": "2021-09-30T19:34:55.033692Z",
          "iopub.status.idle": "2021-09-30T19:34:55.059948Z",
          "shell.execute_reply.started": "2021-09-30T19:34:55.033653Z",
          "shell.execute_reply": "2021-09-30T19:34:55.059282Z"
        },
        "trusted": true,
        "id": "PzqiMNcCcv-a",
        "colab": {
          "base_uri": "https://localhost:8080/",
          "height": 423
        },
        "outputId": "cd098a14-4e0c-4c5c-c6f3-1c5d73453434"
      },
      "source": [
        "data['length'] = data['content'].apply(lambda x: len(str(x).split()))\n",
        "data"
      ],
      "execution_count": null,
      "outputs": [
        {
          "output_type": "execute_result",
          "data": {
            "text/plain": [
              "                                                 content sentiment  length\n",
              "0                                i didnt feel humiliated   sadness       4\n",
              "1      i can go from feeling so hopeless to so damned...   sadness      21\n",
              "2       im grabbing a minute to post i feel greedy wrong     anger      10\n",
              "3      i am ever feeling nostalgic about the fireplac...      love      18\n",
              "4                                   i am feeling grouchy     anger       4\n",
              "...                                                  ...       ...     ...\n",
              "19995  im having ssa examination tomorrow in the morn...   sadness      34\n",
              "19996  i constantly worry about their fight against n...       joy      29\n",
              "19997  i feel its important to share this info for th...       joy      15\n",
              "19998  i truly feel that if you are passionate enough...       joy      19\n",
              "19999  i feel like i just wanna buy any cute make up ...       joy      18\n",
              "\n",
              "[20000 rows x 3 columns]"
            ],
            "text/html": [
              "\n",
              "  <div id=\"df-c4b2d3c7-65d0-40f6-8ca4-8571e024f4d4\" class=\"colab-df-container\">\n",
              "    <div>\n",
              "<style scoped>\n",
              "    .dataframe tbody tr th:only-of-type {\n",
              "        vertical-align: middle;\n",
              "    }\n",
              "\n",
              "    .dataframe tbody tr th {\n",
              "        vertical-align: top;\n",
              "    }\n",
              "\n",
              "    .dataframe thead th {\n",
              "        text-align: right;\n",
              "    }\n",
              "</style>\n",
              "<table border=\"1\" class=\"dataframe\">\n",
              "  <thead>\n",
              "    <tr style=\"text-align: right;\">\n",
              "      <th></th>\n",
              "      <th>content</th>\n",
              "      <th>sentiment</th>\n",
              "      <th>length</th>\n",
              "    </tr>\n",
              "  </thead>\n",
              "  <tbody>\n",
              "    <tr>\n",
              "      <th>0</th>\n",
              "      <td>i didnt feel humiliated</td>\n",
              "      <td>sadness</td>\n",
              "      <td>4</td>\n",
              "    </tr>\n",
              "    <tr>\n",
              "      <th>1</th>\n",
              "      <td>i can go from feeling so hopeless to so damned...</td>\n",
              "      <td>sadness</td>\n",
              "      <td>21</td>\n",
              "    </tr>\n",
              "    <tr>\n",
              "      <th>2</th>\n",
              "      <td>im grabbing a minute to post i feel greedy wrong</td>\n",
              "      <td>anger</td>\n",
              "      <td>10</td>\n",
              "    </tr>\n",
              "    <tr>\n",
              "      <th>3</th>\n",
              "      <td>i am ever feeling nostalgic about the fireplac...</td>\n",
              "      <td>love</td>\n",
              "      <td>18</td>\n",
              "    </tr>\n",
              "    <tr>\n",
              "      <th>4</th>\n",
              "      <td>i am feeling grouchy</td>\n",
              "      <td>anger</td>\n",
              "      <td>4</td>\n",
              "    </tr>\n",
              "    <tr>\n",
              "      <th>...</th>\n",
              "      <td>...</td>\n",
              "      <td>...</td>\n",
              "      <td>...</td>\n",
              "    </tr>\n",
              "    <tr>\n",
              "      <th>19995</th>\n",
              "      <td>im having ssa examination tomorrow in the morn...</td>\n",
              "      <td>sadness</td>\n",
              "      <td>34</td>\n",
              "    </tr>\n",
              "    <tr>\n",
              "      <th>19996</th>\n",
              "      <td>i constantly worry about their fight against n...</td>\n",
              "      <td>joy</td>\n",
              "      <td>29</td>\n",
              "    </tr>\n",
              "    <tr>\n",
              "      <th>19997</th>\n",
              "      <td>i feel its important to share this info for th...</td>\n",
              "      <td>joy</td>\n",
              "      <td>15</td>\n",
              "    </tr>\n",
              "    <tr>\n",
              "      <th>19998</th>\n",
              "      <td>i truly feel that if you are passionate enough...</td>\n",
              "      <td>joy</td>\n",
              "      <td>19</td>\n",
              "    </tr>\n",
              "    <tr>\n",
              "      <th>19999</th>\n",
              "      <td>i feel like i just wanna buy any cute make up ...</td>\n",
              "      <td>joy</td>\n",
              "      <td>18</td>\n",
              "    </tr>\n",
              "  </tbody>\n",
              "</table>\n",
              "<p>20000 rows × 3 columns</p>\n",
              "</div>\n",
              "    <div class=\"colab-df-buttons\">\n",
              "\n",
              "  <div class=\"colab-df-container\">\n",
              "    <button class=\"colab-df-convert\" onclick=\"convertToInteractive('df-c4b2d3c7-65d0-40f6-8ca4-8571e024f4d4')\"\n",
              "            title=\"Convert this dataframe to an interactive table.\"\n",
              "            style=\"display:none;\">\n",
              "\n",
              "  <svg xmlns=\"http://www.w3.org/2000/svg\" height=\"24px\" viewBox=\"0 -960 960 960\">\n",
              "    <path d=\"M120-120v-720h720v720H120Zm60-500h600v-160H180v160Zm220 220h160v-160H400v160Zm0 220h160v-160H400v160ZM180-400h160v-160H180v160Zm440 0h160v-160H620v160ZM180-180h160v-160H180v160Zm440 0h160v-160H620v160Z\"/>\n",
              "  </svg>\n",
              "    </button>\n",
              "\n",
              "  <style>\n",
              "    .colab-df-container {\n",
              "      display:flex;\n",
              "      gap: 12px;\n",
              "    }\n",
              "\n",
              "    .colab-df-convert {\n",
              "      background-color: #E8F0FE;\n",
              "      border: none;\n",
              "      border-radius: 50%;\n",
              "      cursor: pointer;\n",
              "      display: none;\n",
              "      fill: #1967D2;\n",
              "      height: 32px;\n",
              "      padding: 0 0 0 0;\n",
              "      width: 32px;\n",
              "    }\n",
              "\n",
              "    .colab-df-convert:hover {\n",
              "      background-color: #E2EBFA;\n",
              "      box-shadow: 0px 1px 2px rgba(60, 64, 67, 0.3), 0px 1px 3px 1px rgba(60, 64, 67, 0.15);\n",
              "      fill: #174EA6;\n",
              "    }\n",
              "\n",
              "    .colab-df-buttons div {\n",
              "      margin-bottom: 4px;\n",
              "    }\n",
              "\n",
              "    [theme=dark] .colab-df-convert {\n",
              "      background-color: #3B4455;\n",
              "      fill: #D2E3FC;\n",
              "    }\n",
              "\n",
              "    [theme=dark] .colab-df-convert:hover {\n",
              "      background-color: #434B5C;\n",
              "      box-shadow: 0px 1px 3px 1px rgba(0, 0, 0, 0.15);\n",
              "      filter: drop-shadow(0px 1px 2px rgba(0, 0, 0, 0.3));\n",
              "      fill: #FFFFFF;\n",
              "    }\n",
              "  </style>\n",
              "\n",
              "    <script>\n",
              "      const buttonEl =\n",
              "        document.querySelector('#df-c4b2d3c7-65d0-40f6-8ca4-8571e024f4d4 button.colab-df-convert');\n",
              "      buttonEl.style.display =\n",
              "        google.colab.kernel.accessAllowed ? 'block' : 'none';\n",
              "\n",
              "      async function convertToInteractive(key) {\n",
              "        const element = document.querySelector('#df-c4b2d3c7-65d0-40f6-8ca4-8571e024f4d4');\n",
              "        const dataTable =\n",
              "          await google.colab.kernel.invokeFunction('convertToInteractive',\n",
              "                                                    [key], {});\n",
              "        if (!dataTable) return;\n",
              "\n",
              "        const docLinkHtml = 'Like what you see? Visit the ' +\n",
              "          '<a target=\"_blank\" href=https://colab.research.google.com/notebooks/data_table.ipynb>data table notebook</a>'\n",
              "          + ' to learn more about interactive tables.';\n",
              "        element.innerHTML = '';\n",
              "        dataTable['output_type'] = 'display_data';\n",
              "        await google.colab.output.renderOutput(dataTable, element);\n",
              "        const docLink = document.createElement('div');\n",
              "        docLink.innerHTML = docLinkHtml;\n",
              "        element.appendChild(docLink);\n",
              "      }\n",
              "    </script>\n",
              "  </div>\n",
              "\n",
              "\n",
              "<div id=\"df-5201f4c3-f938-41c1-a8b6-37d41e913217\">\n",
              "  <button class=\"colab-df-quickchart\" onclick=\"quickchart('df-5201f4c3-f938-41c1-a8b6-37d41e913217')\"\n",
              "            title=\"Suggest charts\"\n",
              "            style=\"display:none;\">\n",
              "\n",
              "<svg xmlns=\"http://www.w3.org/2000/svg\" height=\"24px\"viewBox=\"0 0 24 24\"\n",
              "     width=\"24px\">\n",
              "    <g>\n",
              "        <path d=\"M19 3H5c-1.1 0-2 .9-2 2v14c0 1.1.9 2 2 2h14c1.1 0 2-.9 2-2V5c0-1.1-.9-2-2-2zM9 17H7v-7h2v7zm4 0h-2V7h2v10zm4 0h-2v-4h2v4z\"/>\n",
              "    </g>\n",
              "</svg>\n",
              "  </button>\n",
              "\n",
              "<style>\n",
              "  .colab-df-quickchart {\n",
              "      --bg-color: #E8F0FE;\n",
              "      --fill-color: #1967D2;\n",
              "      --hover-bg-color: #E2EBFA;\n",
              "      --hover-fill-color: #174EA6;\n",
              "      --disabled-fill-color: #AAA;\n",
              "      --disabled-bg-color: #DDD;\n",
              "  }\n",
              "\n",
              "  [theme=dark] .colab-df-quickchart {\n",
              "      --bg-color: #3B4455;\n",
              "      --fill-color: #D2E3FC;\n",
              "      --hover-bg-color: #434B5C;\n",
              "      --hover-fill-color: #FFFFFF;\n",
              "      --disabled-bg-color: #3B4455;\n",
              "      --disabled-fill-color: #666;\n",
              "  }\n",
              "\n",
              "  .colab-df-quickchart {\n",
              "    background-color: var(--bg-color);\n",
              "    border: none;\n",
              "    border-radius: 50%;\n",
              "    cursor: pointer;\n",
              "    display: none;\n",
              "    fill: var(--fill-color);\n",
              "    height: 32px;\n",
              "    padding: 0;\n",
              "    width: 32px;\n",
              "  }\n",
              "\n",
              "  .colab-df-quickchart:hover {\n",
              "    background-color: var(--hover-bg-color);\n",
              "    box-shadow: 0 1px 2px rgba(60, 64, 67, 0.3), 0 1px 3px 1px rgba(60, 64, 67, 0.15);\n",
              "    fill: var(--button-hover-fill-color);\n",
              "  }\n",
              "\n",
              "  .colab-df-quickchart-complete:disabled,\n",
              "  .colab-df-quickchart-complete:disabled:hover {\n",
              "    background-color: var(--disabled-bg-color);\n",
              "    fill: var(--disabled-fill-color);\n",
              "    box-shadow: none;\n",
              "  }\n",
              "\n",
              "  .colab-df-spinner {\n",
              "    border: 2px solid var(--fill-color);\n",
              "    border-color: transparent;\n",
              "    border-bottom-color: var(--fill-color);\n",
              "    animation:\n",
              "      spin 1s steps(1) infinite;\n",
              "  }\n",
              "\n",
              "  @keyframes spin {\n",
              "    0% {\n",
              "      border-color: transparent;\n",
              "      border-bottom-color: var(--fill-color);\n",
              "      border-left-color: var(--fill-color);\n",
              "    }\n",
              "    20% {\n",
              "      border-color: transparent;\n",
              "      border-left-color: var(--fill-color);\n",
              "      border-top-color: var(--fill-color);\n",
              "    }\n",
              "    30% {\n",
              "      border-color: transparent;\n",
              "      border-left-color: var(--fill-color);\n",
              "      border-top-color: var(--fill-color);\n",
              "      border-right-color: var(--fill-color);\n",
              "    }\n",
              "    40% {\n",
              "      border-color: transparent;\n",
              "      border-right-color: var(--fill-color);\n",
              "      border-top-color: var(--fill-color);\n",
              "    }\n",
              "    60% {\n",
              "      border-color: transparent;\n",
              "      border-right-color: var(--fill-color);\n",
              "    }\n",
              "    80% {\n",
              "      border-color: transparent;\n",
              "      border-right-color: var(--fill-color);\n",
              "      border-bottom-color: var(--fill-color);\n",
              "    }\n",
              "    90% {\n",
              "      border-color: transparent;\n",
              "      border-bottom-color: var(--fill-color);\n",
              "    }\n",
              "  }\n",
              "</style>\n",
              "\n",
              "  <script>\n",
              "    async function quickchart(key) {\n",
              "      const quickchartButtonEl =\n",
              "        document.querySelector('#' + key + ' button');\n",
              "      quickchartButtonEl.disabled = true;  // To prevent multiple clicks.\n",
              "      quickchartButtonEl.classList.add('colab-df-spinner');\n",
              "      try {\n",
              "        const charts = await google.colab.kernel.invokeFunction(\n",
              "            'suggestCharts', [key], {});\n",
              "      } catch (error) {\n",
              "        console.error('Error during call to suggestCharts:', error);\n",
              "      }\n",
              "      quickchartButtonEl.classList.remove('colab-df-spinner');\n",
              "      quickchartButtonEl.classList.add('colab-df-quickchart-complete');\n",
              "    }\n",
              "    (() => {\n",
              "      let quickchartButtonEl =\n",
              "        document.querySelector('#df-5201f4c3-f938-41c1-a8b6-37d41e913217 button');\n",
              "      quickchartButtonEl.style.display =\n",
              "        google.colab.kernel.accessAllowed ? 'block' : 'none';\n",
              "    })();\n",
              "  </script>\n",
              "</div>\n",
              "    </div>\n",
              "  </div>\n"
            ]
          },
          "metadata": {},
          "execution_count": 5
        }
      ]
    },
    {
      "cell_type": "markdown",
      "metadata": {
        "id": "Wr1wXlzTcv-e"
      },
      "source": [
        "## 1.2 Text Preprocessing"
      ]
    },
    {
      "cell_type": "code",
      "metadata": {
        "trusted": true,
        "id": "2HesT_Kbcv-v",
        "colab": {
          "base_uri": "https://localhost:8080/"
        },
        "outputId": "934f4d37-00df-4560-d15c-d0bbc54b3573"
      },
      "source": [
        "data['sentiment'].unique()"
      ],
      "execution_count": null,
      "outputs": [
        {
          "output_type": "execute_result",
          "data": {
            "text/plain": [
              "array(['sadness', 'anger', 'love', 'surprise', 'fear', 'joy'],\n",
              "      dtype=object)"
            ]
          },
          "metadata": {},
          "execution_count": 6
        }
      ]
    },
    {
      "cell_type": "code",
      "source": [
        "import os\n",
        "import pandas as pd\n",
        "import re\n",
        "import string\n",
        "\n",
        "# Your root path\n",
        "root_path = \"/content/drive/MyDrive/softcom project\"\n",
        "\n",
        "# The specific path to the emojis.txt file\n",
        "emojis_path = \"/content/drive/MyDrive/softcom project/Dataset/emojis.txt\"\n",
        "\n",
        "# Read the CSV file into a DataFrame\n",
        "emojis = pd.read_csv(emojis_path, sep=',', header=None)\n",
        "emojis_dict = {i: j for i, j in zip(emojis[0], emojis[1])}\n",
        "pattern = '|'.join(sorted(re.escape(k) for k in emojis_dict))\n",
        "\n",
        "def replace_emojis(text):\n",
        "    text = re.sub(pattern, lambda m: emojis_dict.get(m.group(0)), text, flags=re.IGNORECASE)\n",
        "    return text\n",
        "\n",
        "def remove_punct(text):\n",
        "    text = replace_emojis(text)\n",
        "    text = \"\".join([char for char in text if char not in string.punctuation])\n",
        "    text = re.sub('[0-9]+', '', text)\n",
        "    return text\n",
        "\n",
        "def clean_text(x):\n",
        "    pattern = r'[^a-zA-z0-9\\s]'\n",
        "    text = re.sub(pattern, '', x)\n",
        "    return x\n",
        "\n",
        "contraction_dict = {\"ain't\": \"is not\", \"aren't\": \"are not\", \"can't\": \"cannot\", \"'cause\": \"because\",\n",
        "                    \"could've\": \"could have\", \"couldn't\": \"could not\", \"didn't\": \"did not\", \"doesn't\": \"does not\",\n",
        "                    \"don't\": \"do not\", \"hadn't\": \"had not\", \"hasn't\": \"has not\", \"haven't\": \"have not\", \"he'd\": \"he would\",\n",
        "                    \"he'll\": \"he will\", \"he's\": \"he is\", \"how'd\": \"how did\", \"how'd'y\": \"how do you\", \"how'll\": \"how will\",\n",
        "                    \"how's\": \"how is\", \"I'd\": \"I would\", \"I'd've\": \"I would have\", \"I'll\": \"I will\", \"I'll've\": \"I will have\",\n",
        "                    \"I'm\": \"I am\", \"im\": \"i am\", \"I've\": \"I have\", \"i'd\": \"i would\", \"i'd've\": \"i would have\", \"i'll\": \"i will\",\n",
        "                    \"i'll've\": \"i will have\", \"i'm\": \"i am\", \"i've\": \"i have\", \"isn't\": \"is not\", \"it'd\": \"it would\",\n",
        "                    \"it'd've\": \"it would have\", \"it'll\": \"it will\", \"it'll've\": \"it will have\", \"it's\": \"it is\", \"let's\": \"let us\",\n",
        "                    \"ma'am\": \"madam\", \"mayn't\": \"may not\", \"might've\": \"might have\", \"mightn't\": \"might not\",\n",
        "                    \"mightn't've\": \"might not have\", \"must've\": \"must have\", \"mustn't\": \"must not\", \"mustn't've\": \"must not have\",\n",
        "                    \"needn't\": \"need not\", \"needn't've\": \"need not have\", \"o'clock\": \"of the clock\", \"oughtn't\": \"ought not\",\n",
        "                    \"oughtn't've\": \"ought not have\", \"shan't\": \"shall not\", \"sha'n't\": \"shall not\", \"shan't've\": \"shall not have\",\n",
        "                    \"she'd\": \"she would\", \"she'd've\": \"she would have\", \"she'll\": \"she will\", \"she'll've\": \"she will have\",\n",
        "                    \"she's\": \"she is\", \"should've\": \"should have\", \"shouldn't\": \"should not\", \"shouldn't've\": \"should not have\",\n",
        "                    \"so've\": \"so have\", \"so's\": \"so as\", \"this's\": \"this is\", \"that'd\": \"that would\", \"that'd've\": \"that would have\",\n",
        "                    \"that's\": \"that is\", \"there'd\": \"there would\", \"there'd've\": \"there would have\", \"there's\": \"there is\",\n",
        "                    \"here's\": \"here is\", \"they'd\": \"they would\", \"they'd've\": \"they would have\", \"they'll\": \"they will\",\n",
        "                    \"they'll've\": \"they will have\", \"they're\": \"they are\", \"they've\": \"they have\", \"to've\": \"to have\",\n",
        "                    \"wasn't\": \"was not\", \"we'd\": \"we would\", \"we'd've\": \"we would have\", \"we'll\": \"we will\", \"we'll've\": \"we will have\",\n",
        "                    \"we're\": \"we are\", \"we've\": \"we have\", \"weren't\": \"were not\", \"what'll\": \"what will\", \"what'll've\": \"what will have\",\n",
        "                    \"what're\": \"what are\", \"what's\": \"what is\", \"what've\": \"what have\", \"when's\": \"when is\", \"when've\": \"when have\",\n",
        "                    \"where'd\": \"where did\", \"where's\": \"where is\", \"where've\": \"where have\", \"who'll\": \"who will\", \"who'll've\": \"who will have\",\n",
        "                    \"who's\": \"who is\", \"who've\": \"who have\", \"why's\": \"why is\", \"why've\": \"why have\", \"will've\": \"will have\",\n",
        "                    \"won't\": \"will not\", \"won't've\": \"will not have\", \"would've\": \"would have\", \"wouldn't\": \"would not\",\n",
        "                    \"wouldn't've\": \"would not have\", \"y'all\": \"you all\", \"y'all'd\": \"you all would\", \"y'all'd've\": \"you all would have\",\n",
        "                    \"y'all're\": \"you all are\", \"y'all've\": \"you all have\", \"you'd\": \"you would\", \"you'd've\": \"you would have\",\n",
        "                    \"you'll\": \"you will\", \"you'll've\": \"you will have\", \"you're\": \"you are\", \"you've\": \"you have\"}\n",
        "\n",
        "def _get_contractions(contraction_dict):\n",
        "    contraction_re = re.compile('(%s)' % '|'.join(contraction_dict.keys()))\n",
        "    return contraction_dict, contraction_re\n",
        "\n",
        "contractions, contractions_re = _get_contractions(contraction_dict)\n",
        "\n",
        "def replace_contractions(text):\n",
        "    def replace(match):\n",
        "        return contractions[match.group(0)]\n",
        "    return contractions_re.sub(replace, text)\n",
        "\n",
        "# Usage\n",
        "replace_contractions(\"i didn't feel humiliated\")\n",
        "\n",
        "def text_preprocessing(text):\n",
        "    text = replace_contractions(text)\n",
        "    text = remove_punct(text)\n",
        "    text = clean_text(text)\n",
        "    text = text.lower()\n",
        "    return text\n"
      ],
      "metadata": {
        "id": "oDAgyvmB3lDA"
      },
      "execution_count": null,
      "outputs": []
    },
    {
      "cell_type": "markdown",
      "metadata": {
        "id": "FZmiLL1GWgsf"
      },
      "source": [
        "## 1.3 Train Test Split\n",
        "  Train Size = 80%\n",
        "\n",
        "  Test Size = 20%"
      ]
    },
    {
      "cell_type": "code",
      "metadata": {
        "execution": {
          "iopub.status.busy": "2021-09-30T19:35:14.091669Z",
          "iopub.execute_input": "2021-09-30T19:35:14.091937Z",
          "iopub.status.idle": "2021-09-30T19:35:14.133030Z",
          "shell.execute_reply.started": "2021-09-30T19:35:14.091910Z",
          "shell.execute_reply": "2021-09-30T19:35:14.132312Z"
        },
        "trusted": true,
        "id": "IJ_tS9Xkcv-w"
      },
      "source": [
        "from sklearn.model_selection import train_test_split\n",
        "\n",
        "X_train, X_test, y_train, y_test = train_test_split(data['content'], data['sentiment'],\n",
        "                                                    stratify=data['sentiment'],\n",
        "                                                    test_size=0.2)"
      ],
      "execution_count": null,
      "outputs": []
    },
    {
      "cell_type": "code",
      "metadata": {
        "_uuid": "63cb21525251b060aeb309e7be4b48772f8720f5",
        "scrolled": true,
        "execution": {
          "iopub.status.busy": "2021-09-30T18:41:47.206736Z",
          "iopub.execute_input": "2021-09-30T18:41:47.207403Z",
          "iopub.status.idle": "2021-09-30T18:41:47.211827Z",
          "shell.execute_reply.started": "2021-09-30T18:41:47.207368Z",
          "shell.execute_reply": "2021-09-30T18:41:47.211098Z"
        },
        "trusted": true,
        "id": "kfW9kVldcv-x",
        "colab": {
          "base_uri": "https://localhost:8080/"
        },
        "outputId": "f708b469-6b53-434e-f155-aac54aa031a5"
      },
      "source": [
        "print(\"Train shape : \",X_train.shape)\n",
        "print(\"Test shape : \",X_test.shape)"
      ],
      "execution_count": null,
      "outputs": [
        {
          "output_type": "stream",
          "name": "stdout",
          "text": [
            "Train shape :  (16000,)\n",
            "Test shape :  (4000,)\n"
          ]
        }
      ]
    },
    {
      "cell_type": "markdown",
      "metadata": {
        "id": "odTQO9SPWqsC"
      },
      "source": [
        "## 1.4 Padding Dataset\n",
        "  Maximum Length = 70"
      ]
    },
    {
      "cell_type": "code",
      "metadata": {
        "execution": {
          "iopub.status.busy": "2021-09-30T19:35:17.086561Z",
          "iopub.execute_input": "2021-09-30T19:35:17.086814Z",
          "iopub.status.idle": "2021-09-30T19:35:18.020017Z",
          "shell.execute_reply.started": "2021-09-30T19:35:17.086789Z",
          "shell.execute_reply": "2021-09-30T19:35:18.019226Z"
        },
        "trusted": true,
        "id": "v-5r2dxDcv-y"
      },
      "source": [
        "## Tokenize the sentences\n",
        "tokenizer = Tokenizer(num_words=max_features)\n",
        "tokenizer.fit_on_texts(list(X_train))\n",
        "train_X = tokenizer.texts_to_sequences(X_train)\n",
        "test_X = tokenizer.texts_to_sequences(X_test)\n",
        "\n",
        "## Pad the sentences\n",
        "train_X = pad_sequences(train_X, maxlen=maxlen, truncating='post', padding='post')\n",
        "test_X = pad_sequences(test_X, maxlen=maxlen, truncating='post', padding='post')"
      ],
      "execution_count": null,
      "outputs": []
    },
    {
      "cell_type": "code",
      "metadata": {
        "execution": {
          "iopub.status.busy": "2021-09-30T19:35:19.348318Z",
          "iopub.execute_input": "2021-09-30T19:35:19.350469Z",
          "iopub.status.idle": "2021-09-30T19:35:19.361761Z",
          "shell.execute_reply.started": "2021-09-30T19:35:19.350408Z",
          "shell.execute_reply": "2021-09-30T19:35:19.360985Z"
        },
        "trusted": true,
        "id": "cwyGgtKTcv-y",
        "colab": {
          "base_uri": "https://localhost:8080/"
        },
        "outputId": "bf6f9001-b966-4e71-bf20-490de2f8d3a1"
      },
      "source": [
        "from sklearn.preprocessing import LabelEncoder\n",
        "le = LabelEncoder()\n",
        "train_y = le.fit_transform(y_train.values)\n",
        "test_y = le.transform(y_test.values)\n",
        "le.classes_"
      ],
      "execution_count": null,
      "outputs": [
        {
          "output_type": "execute_result",
          "data": {
            "text/plain": [
              "array(['anger', 'fear', 'joy', 'love', 'sadness', 'surprise'],\n",
              "      dtype=object)"
            ]
          },
          "metadata": {},
          "execution_count": 11
        }
      ]
    },
    {
      "cell_type": "code",
      "source": [
        "!pip3 install torch torchvision torchaudio --index-url https://download.pytorch.org/whl/cu118\n"
      ],
      "metadata": {
        "colab": {
          "base_uri": "https://localhost:8080/"
        },
        "id": "fT9nHksmplp0",
        "outputId": "aba17ce6-e3a7-4f24-da2e-051607d3ae73"
      },
      "execution_count": null,
      "outputs": [
        {
          "output_type": "stream",
          "name": "stdout",
          "text": [
            "Looking in indexes: https://download.pytorch.org/whl/cu118\n",
            "Requirement already satisfied: torch in /usr/local/lib/python3.10/dist-packages (2.1.0+cu121)\n",
            "Requirement already satisfied: torchvision in /usr/local/lib/python3.10/dist-packages (0.16.0+cu121)\n",
            "Requirement already satisfied: torchaudio in /usr/local/lib/python3.10/dist-packages (2.1.0+cu121)\n",
            "Requirement already satisfied: filelock in /usr/local/lib/python3.10/dist-packages (from torch) (3.13.1)\n",
            "Requirement already satisfied: typing-extensions in /usr/local/lib/python3.10/dist-packages (from torch) (4.5.0)\n",
            "Requirement already satisfied: sympy in /usr/local/lib/python3.10/dist-packages (from torch) (1.12)\n",
            "Requirement already satisfied: networkx in /usr/local/lib/python3.10/dist-packages (from torch) (3.2.1)\n",
            "Requirement already satisfied: jinja2 in /usr/local/lib/python3.10/dist-packages (from torch) (3.1.3)\n",
            "Requirement already satisfied: fsspec in /usr/local/lib/python3.10/dist-packages (from torch) (2023.6.0)\n",
            "Requirement already satisfied: triton==2.1.0 in /usr/local/lib/python3.10/dist-packages (from torch) (2.1.0)\n",
            "Requirement already satisfied: numpy in /usr/local/lib/python3.10/dist-packages (from torchvision) (1.23.5)\n",
            "Requirement already satisfied: requests in /usr/local/lib/python3.10/dist-packages (from torchvision) (2.31.0)\n",
            "Requirement already satisfied: pillow!=8.3.*,>=5.3.0 in /usr/local/lib/python3.10/dist-packages (from torchvision) (9.4.0)\n",
            "Requirement already satisfied: MarkupSafe>=2.0 in /usr/local/lib/python3.10/dist-packages (from jinja2->torch) (2.1.4)\n",
            "Requirement already satisfied: charset-normalizer<4,>=2 in /usr/local/lib/python3.10/dist-packages (from requests->torchvision) (3.3.2)\n",
            "Requirement already satisfied: idna<4,>=2.5 in /usr/local/lib/python3.10/dist-packages (from requests->torchvision) (3.6)\n",
            "Requirement already satisfied: urllib3<3,>=1.21.1 in /usr/local/lib/python3.10/dist-packages (from requests->torchvision) (2.0.7)\n",
            "Requirement already satisfied: certifi>=2017.4.17 in /usr/local/lib/python3.10/dist-packages (from requests->torchvision) (2023.11.17)\n",
            "Requirement already satisfied: mpmath>=0.19 in /usr/local/lib/python3.10/dist-packages (from sympy->torch) (1.3.0)\n"
          ]
        }
      ]
    },
    {
      "cell_type": "code",
      "source": [
        "!pip install transformers requests beautifulsoup4 pandas numpy"
      ],
      "metadata": {
        "colab": {
          "base_uri": "https://localhost:8080/"
        },
        "id": "FLCcN93KqQgR",
        "outputId": "b50daba9-d473-4a94-f5bf-a728027dc652"
      },
      "execution_count": null,
      "outputs": [
        {
          "output_type": "stream",
          "name": "stdout",
          "text": [
            "Requirement already satisfied: transformers in /usr/local/lib/python3.10/dist-packages (4.35.2)\n",
            "Requirement already satisfied: requests in /usr/local/lib/python3.10/dist-packages (2.31.0)\n",
            "Requirement already satisfied: beautifulsoup4 in /usr/local/lib/python3.10/dist-packages (4.11.2)\n",
            "Requirement already satisfied: pandas in /usr/local/lib/python3.10/dist-packages (1.5.3)\n",
            "Requirement already satisfied: numpy in /usr/local/lib/python3.10/dist-packages (1.23.5)\n",
            "Requirement already satisfied: filelock in /usr/local/lib/python3.10/dist-packages (from transformers) (3.13.1)\n",
            "Requirement already satisfied: huggingface-hub<1.0,>=0.16.4 in /usr/local/lib/python3.10/dist-packages (from transformers) (0.20.3)\n",
            "Requirement already satisfied: packaging>=20.0 in /usr/local/lib/python3.10/dist-packages (from transformers) (23.2)\n",
            "Requirement already satisfied: pyyaml>=5.1 in /usr/local/lib/python3.10/dist-packages (from transformers) (6.0.1)\n",
            "Requirement already satisfied: regex!=2019.12.17 in /usr/local/lib/python3.10/dist-packages (from transformers) (2023.6.3)\n",
            "Requirement already satisfied: tokenizers<0.19,>=0.14 in /usr/local/lib/python3.10/dist-packages (from transformers) (0.15.1)\n",
            "Requirement already satisfied: safetensors>=0.3.1 in /usr/local/lib/python3.10/dist-packages (from transformers) (0.4.1)\n",
            "Requirement already satisfied: tqdm>=4.27 in /usr/local/lib/python3.10/dist-packages (from transformers) (4.66.1)\n",
            "Requirement already satisfied: charset-normalizer<4,>=2 in /usr/local/lib/python3.10/dist-packages (from requests) (3.3.2)\n",
            "Requirement already satisfied: idna<4,>=2.5 in /usr/local/lib/python3.10/dist-packages (from requests) (3.6)\n",
            "Requirement already satisfied: urllib3<3,>=1.21.1 in /usr/local/lib/python3.10/dist-packages (from requests) (2.0.7)\n",
            "Requirement already satisfied: certifi>=2017.4.17 in /usr/local/lib/python3.10/dist-packages (from requests) (2023.11.17)\n",
            "Requirement already satisfied: soupsieve>1.2 in /usr/local/lib/python3.10/dist-packages (from beautifulsoup4) (2.5)\n",
            "Requirement already satisfied: python-dateutil>=2.8.1 in /usr/local/lib/python3.10/dist-packages (from pandas) (2.8.2)\n",
            "Requirement already satisfied: pytz>=2020.1 in /usr/local/lib/python3.10/dist-packages (from pandas) (2023.3.post1)\n",
            "Requirement already satisfied: fsspec>=2023.5.0 in /usr/local/lib/python3.10/dist-packages (from huggingface-hub<1.0,>=0.16.4->transformers) (2023.6.0)\n",
            "Requirement already satisfied: typing-extensions>=3.7.4.3 in /usr/local/lib/python3.10/dist-packages (from huggingface-hub<1.0,>=0.16.4->transformers) (4.5.0)\n",
            "Requirement already satisfied: six>=1.5 in /usr/local/lib/python3.10/dist-packages (from python-dateutil>=2.8.1->pandas) (1.16.0)\n"
          ]
        }
      ]
    },
    {
      "cell_type": "markdown",
      "metadata": {
        "id": "Auu4EnADBtux"
      },
      "source": [
        "# 2. Word Emebedding (Glove.6B.300d)"
      ]
    },
    {
      "cell_type": "markdown",
      "metadata": {
        "_uuid": "e5c51a8329d569d13b9f0369ebb98ca8e2e55440",
        "id": "KGG7Y14pcv-z"
      },
      "source": [
        "## 2.1 Load Embeddings\n"
      ]
    },
    {
      "cell_type": "code",
      "metadata": {
        "execution": {
          "iopub.status.busy": "2021-09-30T19:35:22.346394Z",
          "iopub.execute_input": "2021-09-30T19:35:22.346867Z",
          "iopub.status.idle": "2021-09-30T19:35:22.354466Z",
          "shell.execute_reply.started": "2021-09-30T19:35:22.346831Z",
          "shell.execute_reply": "2021-09-30T19:35:22.353778Z"
        },
        "trusted": true,
        "id": "sh2aItIxcv-z",
        "colab": {
          "base_uri": "https://localhost:8080/"
        },
        "outputId": "117a83e1-30e1-4ce9-c7aa-57c07f1aacf9"
      },
      "source": [
        "def load_glove(word_index):\n",
        "    EMBEDDING_FILE = \"/content/drive/MyDrive/softcom project/Dataset/glove.6B.300d.txt\"\n",
        "\n",
        "    def get_coefs(word, *arr):\n",
        "        return word, np.asarray(arr, dtype='float32')[:300]\n",
        "\n",
        "    embeddings_index = dict(get_coefs(*o.split(\" \")) for o in open(EMBEDDING_FILE))\n",
        "\n",
        "    all_embs = np.stack(embeddings_index.values())\n",
        "    emb_mean, emb_std = -0.005838499, 0.48782197\n",
        "    embed_size = all_embs.shape[1]\n",
        "\n",
        "    nb_words = min(max_features, len(word_index) + 1)\n",
        "    embedding_matrix = np.random.normal(emb_mean, emb_std, (nb_words, embed_size))\n",
        "\n",
        "    for word, i in word_index.items():\n",
        "        if i >= max_features:\n",
        "            continue\n",
        "        embedding_vector = embeddings_index.get(word)\n",
        "        if embedding_vector is not None:\n",
        "            embedding_matrix[i] = embedding_vector\n",
        "        else:\n",
        "            embedding_vector = embeddings_index.get(word.capitalize())\n",
        "            if embedding_vector is not None:\n",
        "                embedding_matrix[i] = embedding_vector\n",
        "\n",
        "    return embedding_matrix\n",
        "\n",
        "embedding_matrix = load_glove(tokenizer.word_index)\n",
        "print('Shape of word embedding:', np.shape(embedding_matrix))\n"
      ],
      "execution_count": null,
      "outputs": [
        {
          "output_type": "stream",
          "name": "stdout",
          "text": [
            "Shape of word embedding: (15191, 300)\n"
          ]
        }
      ]
    },
    {
      "cell_type": "code",
      "source": [
        "!pip install torch --upgrade\n",
        "!pip install transformers --upgrade\n"
      ],
      "metadata": {
        "id": "uqnNA7Qg7Yht",
        "colab": {
          "base_uri": "https://localhost:8080/",
          "height": 1000
        },
        "outputId": "7190894c-5f6b-466b-b579-2fb1a932e2d3"
      },
      "execution_count": null,
      "outputs": [
        {
          "output_type": "stream",
          "name": "stdout",
          "text": [
            "Requirement already satisfied: torch in /usr/local/lib/python3.10/dist-packages (2.1.0+cu121)\n",
            "Collecting torch\n",
            "  Downloading torch-2.1.2-cp310-cp310-manylinux1_x86_64.whl (670.2 MB)\n",
            "\u001b[2K     \u001b[90m━━━━━━━━━━━━━━━━━━━━━━━━━━━━━━━━━━━━━━━━\u001b[0m \u001b[32m670.2/670.2 MB\u001b[0m \u001b[31m1.9 MB/s\u001b[0m eta \u001b[36m0:00:00\u001b[0m\n",
            "\u001b[?25hRequirement already satisfied: filelock in /usr/local/lib/python3.10/dist-packages (from torch) (3.13.1)\n",
            "Requirement already satisfied: typing-extensions in /usr/local/lib/python3.10/dist-packages (from torch) (4.5.0)\n",
            "Requirement already satisfied: sympy in /usr/local/lib/python3.10/dist-packages (from torch) (1.12)\n",
            "Requirement already satisfied: networkx in /usr/local/lib/python3.10/dist-packages (from torch) (3.2.1)\n",
            "Requirement already satisfied: jinja2 in /usr/local/lib/python3.10/dist-packages (from torch) (3.1.3)\n",
            "Requirement already satisfied: fsspec in /usr/local/lib/python3.10/dist-packages (from torch) (2023.6.0)\n",
            "Collecting nvidia-cuda-nvrtc-cu12==12.1.105 (from torch)\n",
            "  Downloading nvidia_cuda_nvrtc_cu12-12.1.105-py3-none-manylinux1_x86_64.whl (23.7 MB)\n",
            "\u001b[2K     \u001b[90m━━━━━━━━━━━━━━━━━━━━━━━━━━━━━━━━━━━━━━━━\u001b[0m \u001b[32m23.7/23.7 MB\u001b[0m \u001b[31m29.0 MB/s\u001b[0m eta \u001b[36m0:00:00\u001b[0m\n",
            "\u001b[?25hCollecting nvidia-cuda-runtime-cu12==12.1.105 (from torch)\n",
            "  Downloading nvidia_cuda_runtime_cu12-12.1.105-py3-none-manylinux1_x86_64.whl (823 kB)\n",
            "\u001b[2K     \u001b[90m━━━━━━━━━━━━━━━━━━━━━━━━━━━━━━━━━━━━━━━━\u001b[0m \u001b[32m823.6/823.6 kB\u001b[0m \u001b[31m37.4 MB/s\u001b[0m eta \u001b[36m0:00:00\u001b[0m\n",
            "\u001b[?25hCollecting nvidia-cuda-cupti-cu12==12.1.105 (from torch)\n",
            "  Downloading nvidia_cuda_cupti_cu12-12.1.105-py3-none-manylinux1_x86_64.whl (14.1 MB)\n",
            "\u001b[2K     \u001b[90m━━━━━━━━━━━━━━━━━━━━━━━━━━━━━━━━━━━━━━━━\u001b[0m \u001b[32m14.1/14.1 MB\u001b[0m \u001b[31m47.5 MB/s\u001b[0m eta \u001b[36m0:00:00\u001b[0m\n",
            "\u001b[?25hCollecting nvidia-cudnn-cu12==8.9.2.26 (from torch)\n",
            "  Downloading nvidia_cudnn_cu12-8.9.2.26-py3-none-manylinux1_x86_64.whl (731.7 MB)\n",
            "\u001b[2K     \u001b[90m━━━━━━━━━━━━━━━━━━━━━━━━━━━━━━━━━━━━━━━━\u001b[0m \u001b[32m731.7/731.7 MB\u001b[0m \u001b[31m1.6 MB/s\u001b[0m eta \u001b[36m0:00:00\u001b[0m\n",
            "\u001b[?25hCollecting nvidia-cublas-cu12==12.1.3.1 (from torch)\n",
            "  Downloading nvidia_cublas_cu12-12.1.3.1-py3-none-manylinux1_x86_64.whl (410.6 MB)\n",
            "\u001b[2K     \u001b[90m━━━━━━━━━━━━━━━━━━━━━━━━━━━━━━━━━━━━━━━━\u001b[0m \u001b[32m410.6/410.6 MB\u001b[0m \u001b[31m1.3 MB/s\u001b[0m eta \u001b[36m0:00:00\u001b[0m\n",
            "\u001b[?25hCollecting nvidia-cufft-cu12==11.0.2.54 (from torch)\n",
            "  Downloading nvidia_cufft_cu12-11.0.2.54-py3-none-manylinux1_x86_64.whl (121.6 MB)\n",
            "\u001b[2K     \u001b[90m━━━━━━━━━━━━━━━━━━━━━━━━━━━━━━━━━━━━━━━━\u001b[0m \u001b[32m121.6/121.6 MB\u001b[0m \u001b[31m7.4 MB/s\u001b[0m eta \u001b[36m0:00:00\u001b[0m\n",
            "\u001b[?25hCollecting nvidia-curand-cu12==10.3.2.106 (from torch)\n",
            "  Downloading nvidia_curand_cu12-10.3.2.106-py3-none-manylinux1_x86_64.whl (56.5 MB)\n",
            "\u001b[2K     \u001b[90m━━━━━━━━━━━━━━━━━━━━━━━━━━━━━━━━━━━━━━━━\u001b[0m \u001b[32m56.5/56.5 MB\u001b[0m \u001b[31m7.9 MB/s\u001b[0m eta \u001b[36m0:00:00\u001b[0m\n",
            "\u001b[?25hCollecting nvidia-cusolver-cu12==11.4.5.107 (from torch)\n",
            "  Downloading nvidia_cusolver_cu12-11.4.5.107-py3-none-manylinux1_x86_64.whl (124.2 MB)\n",
            "\u001b[2K     \u001b[90m━━━━━━━━━━━━━━━━━━━━━━━━━━━━━━━━━━━━━━━━\u001b[0m \u001b[32m124.2/124.2 MB\u001b[0m \u001b[31m3.5 MB/s\u001b[0m eta \u001b[36m0:00:00\u001b[0m\n",
            "\u001b[?25hCollecting nvidia-cusparse-cu12==12.1.0.106 (from torch)\n",
            "  Downloading nvidia_cusparse_cu12-12.1.0.106-py3-none-manylinux1_x86_64.whl (196.0 MB)\n",
            "\u001b[2K     \u001b[90m━━━━━━━━━━━━━━━━━━━━━━━━━━━━━━━━━━━━━━━━\u001b[0m \u001b[32m196.0/196.0 MB\u001b[0m \u001b[31m4.1 MB/s\u001b[0m eta \u001b[36m0:00:00\u001b[0m\n",
            "\u001b[?25hCollecting nvidia-nccl-cu12==2.18.1 (from torch)\n",
            "  Downloading nvidia_nccl_cu12-2.18.1-py3-none-manylinux1_x86_64.whl (209.8 MB)\n",
            "\u001b[2K     \u001b[90m━━━━━━━━━━━━━━━━━━━━━━━━━━━━━━━━━━━━━━━━\u001b[0m \u001b[32m209.8/209.8 MB\u001b[0m \u001b[31m2.4 MB/s\u001b[0m eta \u001b[36m0:00:00\u001b[0m\n",
            "\u001b[?25hCollecting nvidia-nvtx-cu12==12.1.105 (from torch)\n",
            "  Downloading nvidia_nvtx_cu12-12.1.105-py3-none-manylinux1_x86_64.whl (99 kB)\n",
            "\u001b[2K     \u001b[90m━━━━━━━━━━━━━━━━━━━━━━━━━━━━━━━━━━━━━━━━\u001b[0m \u001b[32m99.1/99.1 kB\u001b[0m \u001b[31m10.4 MB/s\u001b[0m eta \u001b[36m0:00:00\u001b[0m\n",
            "\u001b[?25hRequirement already satisfied: triton==2.1.0 in /usr/local/lib/python3.10/dist-packages (from torch) (2.1.0)\n",
            "Collecting nvidia-nvjitlink-cu12 (from nvidia-cusolver-cu12==11.4.5.107->torch)\n",
            "  Downloading nvidia_nvjitlink_cu12-12.3.101-py3-none-manylinux1_x86_64.whl (20.5 MB)\n",
            "\u001b[2K     \u001b[90m━━━━━━━━━━━━━━━━━━━━━━━━━━━━━━━━━━━━━━━━\u001b[0m \u001b[32m20.5/20.5 MB\u001b[0m \u001b[31m53.1 MB/s\u001b[0m eta \u001b[36m0:00:00\u001b[0m\n",
            "\u001b[?25hRequirement already satisfied: MarkupSafe>=2.0 in /usr/local/lib/python3.10/dist-packages (from jinja2->torch) (2.1.4)\n",
            "Requirement already satisfied: mpmath>=0.19 in /usr/local/lib/python3.10/dist-packages (from sympy->torch) (1.3.0)\n",
            "Installing collected packages: nvidia-nvtx-cu12, nvidia-nvjitlink-cu12, nvidia-nccl-cu12, nvidia-curand-cu12, nvidia-cufft-cu12, nvidia-cuda-runtime-cu12, nvidia-cuda-nvrtc-cu12, nvidia-cuda-cupti-cu12, nvidia-cublas-cu12, nvidia-cusparse-cu12, nvidia-cudnn-cu12, nvidia-cusolver-cu12, torch\n",
            "  Attempting uninstall: torch\n",
            "    Found existing installation: torch 2.1.0+cu121\n",
            "    Uninstalling torch-2.1.0+cu121:\n",
            "      Successfully uninstalled torch-2.1.0+cu121\n",
            "\u001b[31mERROR: pip's dependency resolver does not currently take into account all the packages that are installed. This behaviour is the source of the following dependency conflicts.\n",
            "torchaudio 2.1.0+cu121 requires torch==2.1.0, but you have torch 2.1.2 which is incompatible.\n",
            "torchdata 0.7.0 requires torch==2.1.0, but you have torch 2.1.2 which is incompatible.\n",
            "torchtext 0.16.0 requires torch==2.1.0, but you have torch 2.1.2 which is incompatible.\n",
            "torchvision 0.16.0+cu121 requires torch==2.1.0, but you have torch 2.1.2 which is incompatible.\u001b[0m\u001b[31m\n",
            "\u001b[0mSuccessfully installed nvidia-cublas-cu12-12.1.3.1 nvidia-cuda-cupti-cu12-12.1.105 nvidia-cuda-nvrtc-cu12-12.1.105 nvidia-cuda-runtime-cu12-12.1.105 nvidia-cudnn-cu12-8.9.2.26 nvidia-cufft-cu12-11.0.2.54 nvidia-curand-cu12-10.3.2.106 nvidia-cusolver-cu12-11.4.5.107 nvidia-cusparse-cu12-12.1.0.106 nvidia-nccl-cu12-2.18.1 nvidia-nvjitlink-cu12-12.3.101 nvidia-nvtx-cu12-12.1.105 torch-2.1.2\n"
          ]
        },
        {
          "output_type": "display_data",
          "data": {
            "application/vnd.colab-display-data+json": {
              "pip_warning": {
                "packages": [
                  "torch",
                  "torchgen"
                ]
              }
            }
          },
          "metadata": {}
        },
        {
          "output_type": "stream",
          "name": "stdout",
          "text": [
            "Requirement already satisfied: transformers in /usr/local/lib/python3.10/dist-packages (4.35.2)\n",
            "Collecting transformers\n",
            "  Downloading transformers-4.37.1-py3-none-any.whl (8.4 MB)\n",
            "\u001b[2K     \u001b[90m━━━━━━━━━━━━━━━━━━━━━━━━━━━━━━━━━━━━━━━━\u001b[0m \u001b[32m8.4/8.4 MB\u001b[0m \u001b[31m29.8 MB/s\u001b[0m eta \u001b[36m0:00:00\u001b[0m\n",
            "\u001b[?25hRequirement already satisfied: filelock in /usr/local/lib/python3.10/dist-packages (from transformers) (3.13.1)\n",
            "Requirement already satisfied: huggingface-hub<1.0,>=0.19.3 in /usr/local/lib/python3.10/dist-packages (from transformers) (0.20.3)\n",
            "Requirement already satisfied: numpy>=1.17 in /usr/local/lib/python3.10/dist-packages (from transformers) (1.23.5)\n",
            "Requirement already satisfied: packaging>=20.0 in /usr/local/lib/python3.10/dist-packages (from transformers) (23.2)\n",
            "Requirement already satisfied: pyyaml>=5.1 in /usr/local/lib/python3.10/dist-packages (from transformers) (6.0.1)\n",
            "Requirement already satisfied: regex!=2019.12.17 in /usr/local/lib/python3.10/dist-packages (from transformers) (2023.6.3)\n",
            "Requirement already satisfied: requests in /usr/local/lib/python3.10/dist-packages (from transformers) (2.31.0)\n",
            "Requirement already satisfied: tokenizers<0.19,>=0.14 in /usr/local/lib/python3.10/dist-packages (from transformers) (0.15.1)\n",
            "Requirement already satisfied: safetensors>=0.3.1 in /usr/local/lib/python3.10/dist-packages (from transformers) (0.4.1)\n",
            "Requirement already satisfied: tqdm>=4.27 in /usr/local/lib/python3.10/dist-packages (from transformers) (4.66.1)\n",
            "Requirement already satisfied: fsspec>=2023.5.0 in /usr/local/lib/python3.10/dist-packages (from huggingface-hub<1.0,>=0.19.3->transformers) (2023.6.0)\n",
            "Requirement already satisfied: typing-extensions>=3.7.4.3 in /usr/local/lib/python3.10/dist-packages (from huggingface-hub<1.0,>=0.19.3->transformers) (4.5.0)\n",
            "Requirement already satisfied: charset-normalizer<4,>=2 in /usr/local/lib/python3.10/dist-packages (from requests->transformers) (3.3.2)\n",
            "Requirement already satisfied: idna<4,>=2.5 in /usr/local/lib/python3.10/dist-packages (from requests->transformers) (3.6)\n",
            "Requirement already satisfied: urllib3<3,>=1.21.1 in /usr/local/lib/python3.10/dist-packages (from requests->transformers) (2.0.7)\n",
            "Requirement already satisfied: certifi>=2017.4.17 in /usr/local/lib/python3.10/dist-packages (from requests->transformers) (2023.11.17)\n",
            "Installing collected packages: transformers\n",
            "  Attempting uninstall: transformers\n",
            "    Found existing installation: transformers 4.35.2\n",
            "    Uninstalling transformers-4.35.2:\n",
            "      Successfully uninstalled transformers-4.35.2\n",
            "Successfully installed transformers-4.37.1\n"
          ]
        }
      ]
    },
    {
      "cell_type": "code",
      "source": [
        "from sklearn.preprocessing import LabelEncoder\n",
        "\n",
        "# Assuming y_train is your label data\n",
        "le = LabelEncoder()\n",
        "y_train_encoded = le.fit_transform(y_train)\n",
        "\n",
        "# Convert labels to PyTorch tensors\n",
        "train_labels = torch.tensor(y_train_encoded, dtype=torch.long)\n"
      ],
      "metadata": {
        "id": "Jmt6z_b_-y0w"
      },
      "execution_count": null,
      "outputs": []
    },
    {
      "cell_type": "code",
      "source": [
        "import numpy as np\n",
        "import torch\n",
        "from sklearn.preprocessing import LabelEncoder\n",
        "\n",
        "# Assuming y_train is your label data as a Pandas Series\n",
        "label_encoder = LabelEncoder()\n",
        "y_train_encoded = label_encoder.fit_transform(y_train)\n",
        "\n",
        "# Convert labels to PyTorch tensor\n",
        "train_labels = torch.tensor(y_train_encoded, dtype=torch.long)\n"
      ],
      "metadata": {
        "id": "QXDk0Sqh_20s"
      },
      "execution_count": null,
      "outputs": []
    },
    {
      "cell_type": "code",
      "source": [
        "import torch\n",
        "from torch.utils.data import DataLoader, TensorDataset\n",
        "from transformers import BertTokenizer, BertForSequenceClassification, AdamW, get_linear_schedule_with_warmup\n",
        "from sklearn.metrics import classification_report\n",
        "from sklearn.preprocessing import LabelEncoder\n",
        "\n",
        "# Set device (cuda if available, else cpu)\n",
        "device = torch.device(\"cuda\" if torch.cuda.is_available() else \"cpu\")\n",
        "\n",
        "# Load pre-trained BERT tokenizer and model\n",
        "tokenizer = BertTokenizer.from_pretrained('bert-base-uncased')\n",
        "model = BertForSequenceClassification.from_pretrained('bert-base-uncased', num_labels=len(le.classes_))\n",
        "model.to(device)\n",
        "\n",
        "le = LabelEncoder()\n",
        "y_train_encoded = le.fit_transform(y_train)\n",
        "train_labels = torch.tensor(y_train_encoded, dtype=torch.long)\n",
        "test_labels = torch.tensor(le.transform(y_test), dtype=torch.long)\n",
        "\n",
        "# Tokenize and pad sequences\n",
        "train_inputs = tokenizer(X_train.tolist(), max_length=maxlen, padding='max_length', truncation=True, return_tensors=\"pt\")\n",
        "test_inputs = tokenizer(X_test.tolist(), max_length=maxlen, padding='max_length', truncation=True, return_tensors=\"pt\")\n",
        "\n",
        "# Convert labels to PyTorch tensors\n",
        "train_labels = torch.tensor(y_train_encoded, dtype=torch.long).to(device)\n",
        "test_labels = torch.tensor(le.transform(y_test), dtype=torch.long).to(device)\n",
        "\n",
        "# Create DataLoader with fixed batch size\n",
        "train_dataset = TensorDataset(train_inputs['input_ids'], train_inputs['attention_mask'], train_labels)\n",
        "train_dataloader = DataLoader(train_dataset, batch_size=32, shuffle=True)\n",
        "\n",
        "test_dataset = TensorDataset(test_inputs['input_ids'], test_inputs['attention_mask'], test_labels)\n",
        "test_dataloader = DataLoader(test_dataset, batch_size=8, shuffle=False)  # Fixed EVAL_BATCH_SIZE\n",
        "\n",
        "# Set optimizer and scheduler with fixed learning rate\n",
        "optimizer = AdamW(model.parameters(), lr=2e-5, eps=1e-8)\n",
        "scheduler = get_linear_schedule_with_warmup(optimizer, num_warmup_steps=0, num_training_steps=len(train_dataloader) * 3)\n",
        "\n",
        "# Training loop with fixed epochs\n",
        "epochs = 3\n",
        "for epoch in range(epochs):\n",
        "    model.train()\n",
        "    for batch in train_dataloader:\n",
        "        input_ids, attention_mask, labels = batch\n",
        "        input_ids, attention_mask, labels = input_ids.to(device), attention_mask.to(device), labels.to(device)\n",
        "\n",
        "        optimizer.zero_grad()\n",
        "        outputs = model(input_ids, attention_mask=attention_mask, labels=labels)\n",
        "        loss = outputs.loss\n",
        "        loss.backward()\n",
        "        optimizer.step()\n",
        "        scheduler.step()\n",
        "\n",
        "# Evaluation with fixed EVAL_BATCH_SIZE\n",
        "model.eval()\n",
        "predictions = []\n",
        "with torch.no_grad():\n",
        "    for batch in test_dataloader:\n",
        "        input_ids, attention_mask, labels = batch\n",
        "        input_ids, attention_mask, labels = input_ids.to(device), attention_mask.to(device), labels.to(device)\n",
        "\n",
        "        outputs = model(input_ids, attention_mask=attention_mask)\n",
        "        logits = outputs.logits\n",
        "        predictions.extend(torch.argmax(logits, dim=1).cpu().numpy())\n",
        "\n",
        "# Print classification report\n",
        "print(\"Classification Report:\\n\", classification_report(le.transform(y_test), predictions, target_names=le.classes_))\n",
        "\n"
      ],
      "metadata": {
        "id": "Affdvbh-5zbo",
        "colab": {
          "base_uri": "https://localhost:8080/"
        },
        "outputId": "71ad905c-4760-4e8a-e244-6f2b7ac95c26"
      },
      "execution_count": null,
      "outputs": [
        {
          "output_type": "stream",
          "name": "stderr",
          "text": [
            "Some weights of BertForSequenceClassification were not initialized from the model checkpoint at bert-base-uncased and are newly initialized: ['classifier.bias', 'classifier.weight']\n",
            "You should probably TRAIN this model on a down-stream task to be able to use it for predictions and inference.\n"
          ]
        },
        {
          "output_type": "stream",
          "name": "stdout",
          "text": [
            "Classification Report:\n",
            "               precision    recall  f1-score   support\n",
            "\n",
            "       anger       0.94      0.91      0.93       542\n",
            "        fear       0.88      0.92      0.90       475\n",
            "         joy       0.96      0.95      0.96      1352\n",
            "        love       0.87      0.86      0.87       328\n",
            "     sadness       0.97      0.97      0.97      1159\n",
            "    surprise       0.77      0.83      0.80       144\n",
            "\n",
            "    accuracy                           0.94      4000\n",
            "   macro avg       0.90      0.91      0.90      4000\n",
            "weighted avg       0.94      0.94      0.94      4000\n",
            "\n"
          ]
        }
      ]
    },
    {
      "cell_type": "code",
      "source": [
        "input_string = input('Input Text: ')\n",
        "\n",
        "# Tokenize and pad the input string\n",
        "input_tokens = tokenizer(input_string, max_length=maxlen, padding='max_length', truncation=True, return_tensors=\"pt\")\n",
        "\n",
        "# Convert the input to the appropriate device\n",
        "input_ids = input_tokens['input_ids'].to(device)\n",
        "attention_mask = input_tokens['attention_mask'].to(device)\n",
        "\n",
        "# Make prediction using the trained BERT model\n",
        "model.eval()\n",
        "with torch.no_grad():\n",
        "    output = model(input_ids, attention_mask=attention_mask)\n",
        "    logits = output.logits\n",
        "    prediction = torch.argmax(logits, dim=1).cpu().item()\n",
        "\n",
        "# Convert the numerical prediction back to the original label\n",
        "predicted_emotion = le.inverse_transform([prediction])[0]\n",
        "\n",
        "print('Emotion using BERT:', predicted_emotion)"
      ],
      "metadata": {
        "id": "pGNG4fvY9LQd"
      },
      "execution_count": null,
      "outputs": []
    },
    {
      "cell_type": "code",
      "source": [
        "!pip install transformers\n"
      ],
      "metadata": {
        "id": "6J9QbSpv9_0p",
        "colab": {
          "base_uri": "https://localhost:8080/"
        },
        "outputId": "4538201b-b7a3-4910-9dcd-8ba7037f0f54"
      },
      "execution_count": null,
      "outputs": [
        {
          "output_type": "stream",
          "name": "stdout",
          "text": [
            "Requirement already satisfied: transformers in /usr/local/lib/python3.10/dist-packages (4.37.1)\n",
            "Requirement already satisfied: filelock in /usr/local/lib/python3.10/dist-packages (from transformers) (3.13.1)\n",
            "Requirement already satisfied: huggingface-hub<1.0,>=0.19.3 in /usr/local/lib/python3.10/dist-packages (from transformers) (0.20.3)\n",
            "Requirement already satisfied: numpy>=1.17 in /usr/local/lib/python3.10/dist-packages (from transformers) (1.23.5)\n",
            "Requirement already satisfied: packaging>=20.0 in /usr/local/lib/python3.10/dist-packages (from transformers) (23.2)\n",
            "Requirement already satisfied: pyyaml>=5.1 in /usr/local/lib/python3.10/dist-packages (from transformers) (6.0.1)\n",
            "Requirement already satisfied: regex!=2019.12.17 in /usr/local/lib/python3.10/dist-packages (from transformers) (2023.6.3)\n",
            "Requirement already satisfied: requests in /usr/local/lib/python3.10/dist-packages (from transformers) (2.31.0)\n",
            "Requirement already satisfied: tokenizers<0.19,>=0.14 in /usr/local/lib/python3.10/dist-packages (from transformers) (0.15.1)\n",
            "Requirement already satisfied: safetensors>=0.3.1 in /usr/local/lib/python3.10/dist-packages (from transformers) (0.4.1)\n",
            "Requirement already satisfied: tqdm>=4.27 in /usr/local/lib/python3.10/dist-packages (from transformers) (4.66.1)\n",
            "Requirement already satisfied: fsspec>=2023.5.0 in /usr/local/lib/python3.10/dist-packages (from huggingface-hub<1.0,>=0.19.3->transformers) (2023.6.0)\n",
            "Requirement already satisfied: typing-extensions>=3.7.4.3 in /usr/local/lib/python3.10/dist-packages (from huggingface-hub<1.0,>=0.19.3->transformers) (4.5.0)\n",
            "Requirement already satisfied: charset-normalizer<4,>=2 in /usr/local/lib/python3.10/dist-packages (from requests->transformers) (3.3.2)\n",
            "Requirement already satisfied: idna<4,>=2.5 in /usr/local/lib/python3.10/dist-packages (from requests->transformers) (3.6)\n",
            "Requirement already satisfied: urllib3<3,>=1.21.1 in /usr/local/lib/python3.10/dist-packages (from requests->transformers) (2.0.7)\n",
            "Requirement already satisfied: certifi>=2017.4.17 in /usr/local/lib/python3.10/dist-packages (from requests->transformers) (2023.11.17)\n"
          ]
        }
      ]
    },
    {
      "cell_type": "code",
      "source": [
        "n_epochs =30\n",
        "filter_sizes = [2,3,5]\n",
        "num_filters = 32\n",
        "n_classes = len(le.classes_)\n",
        "batch_size = 512"
      ],
      "metadata": {
        "id": "yKza512yhPmy"
      },
      "execution_count": null,
      "outputs": []
    },
    {
      "cell_type": "code",
      "source": [
        "class BiLSTM(nn.Module):\n",
        "    def __init__(self, n_classes):\n",
        "        super(BiLSTM, self).__init__()\n",
        "        n_classes = len(le.classes_)\n",
        "        self.hidden_size = 64\n",
        "        self.embedding = nn.Embedding(max_features, embed_size)\n",
        "        self.embedding.weight = nn.Parameter(torch.tensor(embedding_matrix, dtype=torch.float32))\n",
        "        self.embedding.weight.requires_grad = False\n",
        "        self.lstm = nn.LSTM(embed_size, self.hidden_size, num_layers=1, bidirectional=True, batch_first=True)\n",
        "        self.linear = nn.Linear(self.hidden_size * 4, 32)\n",
        "        self.relu = nn.ReLU()\n",
        "        self.dropout = nn.Dropout(0.1)\n",
        "        self.out = nn.Linear(32, n_classes)\n",
        "\n",
        "    def forward(self, x, attention_mask=None):\n",
        "        h_embedding = self.embedding(x)\n",
        "        h_lstm, _ = self.lstm(h_embedding)\n",
        "        avg_pool = torch.mean(h_lstm, 1)\n",
        "        max_pool, _ = torch.max(h_lstm, 1)\n",
        "        conc = torch.cat((avg_pool, max_pool), 1)\n",
        "        conc = self.relu(self.linear(conc))\n",
        "        conc = self.dropout(conc)\n",
        "        out = self.out(conc)\n",
        "        return out\n"
      ],
      "metadata": {
        "id": "HAi3IS4ugL2S"
      },
      "execution_count": null,
      "outputs": []
    },
    {
      "cell_type": "code",
      "source": [
        "model = BiLSTM(n_classes).to(device)\n",
        "loss_fn = nn.CrossEntropyLoss(reduction='mean')\n",
        "optimizer = torch.optim.Adam(filter(lambda p: p.requires_grad, model.parameters()), lr=0.001)\n",
        "\n",
        "# Load train and test in CUDA or CPU Memory\n",
        "x_train = torch.tensor(train_X, dtype=torch.long).to(device)\n",
        "y_train = torch.tensor(train_y, dtype=torch.long).to(device)\n",
        "x_cv = torch.tensor(test_X, dtype=torch.long).to(device)\n",
        "y_cv = torch.tensor(test_y, dtype=torch.long).to(device)\n",
        "\n",
        "# Create Torch datasets\n",
        "train = torch.utils.data.TensorDataset(x_train, y_train)\n",
        "valid = torch.utils.data.TensorDataset(x_cv, y_cv)\n",
        "\n",
        "# Create Data Loaders\n",
        "train_loader = torch.utils.data.DataLoader(train, batch_size=batch_size, shuffle=False)\n",
        "valid_loader = torch.utils.data.DataLoader(valid, batch_size=batch_size, shuffle=False)\n",
        "\n",
        "train_loss = []\n",
        "valid_loss = []\n",
        "train_acc_list, test_acc_list, prec_list, recall_list, f1_list = [],[],[],[],[]\n",
        "\n",
        "for epoch in range(n_epochs):\n",
        "    start_time = time.time()\n",
        "    # Set model to train configuration\n",
        "    model.train()\n",
        "    avg_loss = 0.\n",
        "    train_preds = np.zeros((len(x_train),len(le.classes_)))\n",
        "    for i, (x_batch, y_batch) in enumerate(train_loader):\n",
        "        # Predict/Forward Pass\n",
        "        y_pred = model(x_batch)\n",
        "\n",
        "        # Compute loss\n",
        "        loss = loss_fn(y_pred, y_batch)\n",
        "        optimizer.zero_grad()\n",
        "        loss.backward()\n",
        "        optimizer.step()\n",
        "        train_preds[i * batch_size:(i+1) * batch_size] =F.softmax(y_pred).detach().cpu().numpy()\n",
        "        avg_loss += loss.item() / len(train_loader)\n",
        "\n",
        "\n",
        "    y_pred_train = train_preds.argmax(axis=1)\n",
        "    train_accuracy = round(accuracy_score(y_pred_train,train_y)*100,3)\n",
        "\n",
        "    # Set model to validation configuration -Doesn't get trained here\n",
        "    model.eval()\n",
        "    avg_val_loss = 0.\n",
        "    val_preds = np.zeros((len(x_cv),len(le.classes_)))\n",
        "\n",
        "    for i, (x_batch, y_batch) in enumerate(valid_loader):\n",
        "        y_pred = model(x_batch).detach()\n",
        "        avg_val_loss += loss_fn(y_pred, y_batch).item() / len(valid_loader)\n",
        "        # keep/store predictions\n",
        "        val_preds[i * batch_size:(i+1) * batch_size] =F.softmax(y_pred).cpu().numpy()\n",
        "\n",
        "    # Check Accuracy\n",
        "    y_pred = val_preds.argmax(axis=1)\n",
        "    test_accuracy = round(accuracy_score(y_pred,test_y)*100,3)\n",
        "    test_precision = round(precision_score(y_pred,test_y, average='weighted')*100,3)\n",
        "    test_recall = round(np.mean(recall_score(y_pred, test_y, average='weighted'))*100,3)\n",
        "    test_f1_score = round(f1_score(y_pred, test_y, average='weighted')*100,3)\n",
        "\n",
        "\n",
        "    # storing accuracy,precision,recall,f1 score data into list\n",
        "    train_loss.append(avg_loss)\n",
        "    valid_loss.append(avg_val_loss)\n",
        "    train_acc_list.append(train_accuracy)\n",
        "    test_acc_list.append(test_accuracy)\n",
        "    prec_list.append(test_precision)\n",
        "    recall_list.append(test_recall)\n",
        "    f1_list.append(test_f1_score)\n",
        "    elapsed_time = time.time() - start_time\n",
        "    print('Epoch {}/{}  Train loss={:.3f}   Test loss={:.3f}   Train Accuracy={:.3f}   Test Accuracy={:.3f}   Precision={:.3f}   Recall={:.3f}   F1 Score={:.3f}   time={:.2f} s'.format(\n",
        "                epoch + 1, n_epochs, avg_loss, avg_val_loss, train_accuracy, test_accuracy, test_precision, test_recall, test_f1_score, elapsed_time))"
      ],
      "metadata": {
        "colab": {
          "base_uri": "https://localhost:8080/"
        },
        "id": "z8hBM3LsrqFU",
        "outputId": "07d7f1aa-894e-4be3-8b9f-9fdd27183f2e"
      },
      "execution_count": null,
      "outputs": [
        {
          "output_type": "stream",
          "name": "stdout",
          "text": [
            "Epoch 1/30  Train loss=1.632   Test loss=1.567   Train Accuracy=30.769   Test Accuracy=33.800   Precision=100.000   Recall=33.800   F1 Score=50.523   time=1.23 s\n",
            "Epoch 2/30  Train loss=1.539   Test loss=1.441   Train Accuracy=39.950   Test Accuracy=52.100   Precision=82.618   Recall=52.100   F1 Score=63.836   time=0.70 s\n",
            "Epoch 3/30  Train loss=1.281   Test loss=1.124   Train Accuracy=53.431   Test Accuracy=55.800   Precision=88.792   Recall=55.800   F1 Score=67.921   time=0.69 s\n",
            "Epoch 4/30  Train loss=1.046   Test loss=0.918   Train Accuracy=60.550   Test Accuracy=65.625   Precision=89.248   Recall=65.625   F1 Score=74.341   time=0.69 s\n",
            "Epoch 5/30  Train loss=0.839   Test loss=0.703   Train Accuracy=69.794   Test Accuracy=74.850   Precision=88.929   Recall=74.850   F1 Score=80.407   time=0.68 s\n",
            "Epoch 6/30  Train loss=0.646   Test loss=0.528   Train Accuracy=77.225   Test Accuracy=82.075   Precision=89.045   Recall=82.075   F1 Score=84.772   time=0.69 s\n",
            "Epoch 7/30  Train loss=0.493   Test loss=0.401   Train Accuracy=83.069   Test Accuracy=86.825   Precision=89.466   Recall=86.825   F1 Score=87.759   time=0.67 s\n",
            "Epoch 8/30  Train loss=0.391   Test loss=0.329   Train Accuracy=86.481   Test Accuracy=89.075   Precision=90.310   Recall=89.075   F1 Score=89.455   time=0.68 s\n",
            "Epoch 9/30  Train loss=0.321   Test loss=0.282   Train Accuracy=88.744   Test Accuracy=89.950   Precision=90.761   Recall=89.950   F1 Score=90.195   time=0.67 s\n",
            "Epoch 10/30  Train loss=0.271   Test loss=0.262   Train Accuracy=90.212   Test Accuracy=90.675   Precision=91.095   Recall=90.675   F1 Score=90.736   time=0.67 s\n",
            "Epoch 11/30  Train loss=0.238   Test loss=0.230   Train Accuracy=91.394   Test Accuracy=91.225   Precision=91.513   Recall=91.225   F1 Score=91.281   time=0.69 s\n",
            "Epoch 12/30  Train loss=0.213   Test loss=0.221   Train Accuracy=92.312   Test Accuracy=91.150   Precision=91.476   Recall=91.150   F1 Score=91.232   time=0.67 s\n",
            "Epoch 13/30  Train loss=0.193   Test loss=0.200   Train Accuracy=92.781   Test Accuracy=91.800   Precision=91.963   Recall=91.800   F1 Score=91.855   time=0.69 s\n",
            "Epoch 14/30  Train loss=0.177   Test loss=0.200   Train Accuracy=93.319   Test Accuracy=91.425   Precision=91.584   Recall=91.425   F1 Score=91.471   time=0.70 s\n",
            "Epoch 15/30  Train loss=0.159   Test loss=0.187   Train Accuracy=94.025   Test Accuracy=92.075   Precision=92.168   Recall=92.075   F1 Score=92.112   time=0.71 s\n",
            "Epoch 16/30  Train loss=0.147   Test loss=0.187   Train Accuracy=94.438   Test Accuracy=92.200   Precision=92.391   Recall=92.200   F1 Score=92.243   time=0.71 s\n",
            "Epoch 17/30  Train loss=0.138   Test loss=0.182   Train Accuracy=94.781   Test Accuracy=92.450   Precision=92.666   Recall=92.450   F1 Score=92.515   time=0.73 s\n",
            "Epoch 18/30  Train loss=0.136   Test loss=0.185   Train Accuracy=94.700   Test Accuracy=91.750   Precision=91.803   Recall=91.750   F1 Score=91.748   time=0.76 s\n",
            "Epoch 19/30  Train loss=0.123   Test loss=0.179   Train Accuracy=95.238   Test Accuracy=92.025   Precision=92.150   Recall=92.025   F1 Score=92.044   time=0.74 s\n",
            "Epoch 20/30  Train loss=0.108   Test loss=0.181   Train Accuracy=95.850   Test Accuracy=92.000   Precision=92.095   Recall=92.000   F1 Score=92.007   time=0.74 s\n",
            "Epoch 21/30  Train loss=0.101   Test loss=0.190   Train Accuracy=96.269   Test Accuracy=92.000   Precision=92.052   Recall=92.000   F1 Score=91.978   time=0.69 s\n",
            "Epoch 22/30  Train loss=0.090   Test loss=0.183   Train Accuracy=96.662   Test Accuracy=92.050   Precision=92.125   Recall=92.050   F1 Score=92.073   time=0.69 s\n",
            "Epoch 23/30  Train loss=0.083   Test loss=0.191   Train Accuracy=96.888   Test Accuracy=91.900   Precision=92.141   Recall=91.900   F1 Score=91.976   time=0.95 s\n",
            "Epoch 24/30  Train loss=0.078   Test loss=0.188   Train Accuracy=97.019   Test Accuracy=92.100   Precision=92.312   Recall=92.100   F1 Score=92.167   time=0.67 s\n",
            "Epoch 25/30  Train loss=0.072   Test loss=0.190   Train Accuracy=97.319   Test Accuracy=92.175   Precision=92.242   Recall=92.175   F1 Score=92.191   time=0.68 s\n",
            "Epoch 26/30  Train loss=0.066   Test loss=0.196   Train Accuracy=97.731   Test Accuracy=92.100   Precision=92.204   Recall=92.100   F1 Score=92.117   time=0.68 s\n",
            "Epoch 27/30  Train loss=0.062   Test loss=0.221   Train Accuracy=97.906   Test Accuracy=91.875   Precision=92.062   Recall=91.875   F1 Score=91.859   time=0.71 s\n",
            "Epoch 28/30  Train loss=0.060   Test loss=0.222   Train Accuracy=97.875   Test Accuracy=92.150   Precision=92.345   Recall=92.150   F1 Score=92.131   time=0.69 s\n",
            "Epoch 29/30  Train loss=0.061   Test loss=0.194   Train Accuracy=97.762   Test Accuracy=92.300   Precision=92.381   Recall=92.300   F1 Score=92.323   time=0.71 s\n",
            "Epoch 30/30  Train loss=0.060   Test loss=0.193   Train Accuracy=97.844   Test Accuracy=92.350   Precision=92.408   Recall=92.350   F1 Score=92.351   time=0.70 s\n"
          ]
        }
      ]
    },
    {
      "cell_type": "markdown",
      "metadata": {
        "_uuid": "0a78496e4d88d8fb351cdf26d02f1554821ed445",
        "id": "MWIIi8LMcv-2"
      },
      "source": [
        "# 3. Convolutional Neural Network (CNN)"
      ]
    },
    {
      "cell_type": "code",
      "metadata": {
        "execution": {
          "iopub.status.busy": "2021-09-30T19:46:31.935651Z",
          "iopub.execute_input": "2021-09-30T19:46:31.936451Z",
          "iopub.status.idle": "2021-09-30T19:46:31.945967Z",
          "shell.execute_reply.started": "2021-09-30T19:46:31.936392Z",
          "shell.execute_reply": "2021-09-30T19:46:31.945133Z"
        },
        "trusted": true,
        "id": "GJqxJVLicv-2"
      },
      "source": [
        "class CNN(nn.Module):\n",
        "\n",
        "    def __init__(self,num_filters,filter_sizes,n_classes):\n",
        "        super(CNN, self).__init__()\n",
        "\n",
        "        self.embedding = nn.Embedding(max_features, embed_size)\n",
        "        self.embedding.weight = nn.Parameter(torch.tensor(embedding_matrix, dtype=torch.float32))\n",
        "        self.embedding.weight.requires_grad = False\n",
        "        self.convs1 = nn.ModuleList([nn.Conv2d(1, num_filters, (K, embed_size)) for K in filter_sizes])\n",
        "        self.dropout = nn.Dropout(0.1)\n",
        "        self.fc1 = nn.Linear(len(filter_sizes)*num_filters, n_classes)\n",
        "\n",
        "    def forward(self, x):\n",
        "        x = self.embedding(x)\n",
        "        x = x.unsqueeze(1)\n",
        "        x = [F.relu(conv(x)).squeeze(3) for conv in self.convs1]\n",
        "        x = [F.max_pool1d(i, i.size(2)).squeeze(2) for i in x]\n",
        "        x = torch.cat(x, 1)\n",
        "        x = self.dropout(x)\n",
        "        logit = self.fc1(x)\n",
        "        return logit"
      ],
      "execution_count": null,
      "outputs": []
    },
    {
      "cell_type": "markdown",
      "metadata": {
        "id": "99_ILn3JYDOf"
      },
      "source": [
        "## 3.1 Setting Hyperparameters"
      ]
    },
    {
      "cell_type": "markdown",
      "metadata": {
        "_uuid": "0da30e2afce23b753796f3045b44ce91a07e4303",
        "id": "tGR7WOijcv-2"
      },
      "source": [
        "## 3.2 Model Evaluation"
      ]
    },
    {
      "cell_type": "code",
      "metadata": {
        "_uuid": "6a5afb54f70a29808af19946ba08ef971d194e46",
        "execution": {
          "iopub.status.busy": "2021-09-30T19:46:37.587921Z",
          "iopub.execute_input": "2021-09-30T19:46:37.588189Z",
          "iopub.status.idle": "2021-09-30T20:01:41.695104Z",
          "shell.execute_reply.started": "2021-09-30T19:46:37.588161Z",
          "shell.execute_reply": "2021-09-30T20:01:41.694201Z"
        },
        "trusted": true,
        "id": "K38R_qUmcv-3",
        "colab": {
          "base_uri": "https://localhost:8080/"
        },
        "outputId": "f7c811cb-9447-4a60-917e-c35d8adcacb9"
      },
      "source": [
        "# Device configuration\n",
        "device = torch.device('cuda' if torch.cuda.is_available() else 'cpu')\n",
        "\n",
        "model_cnn = CNN(num_filters,filter_sizes,n_classes).to(device)\n",
        "loss_fn = nn.CrossEntropyLoss(reduction='mean')\n",
        "optimizer = torch.optim.Adam(filter(lambda p: p.requires_grad, model_cnn.parameters()), lr=0.001)\n",
        "\n",
        "# Load train and test in CUDA or CPU Memory\n",
        "x_train = torch.tensor(train_X, dtype=torch.long).to(device)\n",
        "y_train = torch.tensor(train_y, dtype=torch.long).to(device)\n",
        "x_cv = torch.tensor(test_X, dtype=torch.long).to(device)\n",
        "y_cv = torch.tensor(test_y, dtype=torch.long).to(device)\n",
        "\n",
        "# Create Torch datasets\n",
        "train = torch.utils.data.TensorDataset(x_train, y_train)\n",
        "valid = torch.utils.data.TensorDataset(x_cv, y_cv)\n",
        "\n",
        "# Create Data Loaders\n",
        "train_loader = torch.utils.data.DataLoader(train, batch_size=batch_size, shuffle=False)\n",
        "valid_loader = torch.utils.data.DataLoader(valid, batch_size=batch_size, shuffle=False)\n",
        "\n",
        "cnn_train_loss = []\n",
        "cnn_valid_loss = []\n",
        "cnn_train_acc_list, cnn_test_acc_list, cnn_prec_list, cnn_recall_list, cnn_f1_list = [],[],[],[],[]\n",
        "\n",
        "for epoch in range(n_epochs):\n",
        "    start_time = time.time()\n",
        "    # Set model to train configuration\n",
        "    model_cnn.train()\n",
        "    avg_loss = 0.\n",
        "    train_preds = np.zeros((len(x_train),len(le.classes_)))\n",
        "    for i, (x_batch, y_batch) in enumerate(train_loader):\n",
        "        # Predict/Forward Pass\n",
        "        y_pred = model_cnn(x_batch)\n",
        "\n",
        "        # Compute loss\n",
        "        loss = loss_fn(y_pred, y_batch)\n",
        "        optimizer.zero_grad()\n",
        "        loss.backward()\n",
        "        optimizer.step()\n",
        "        train_preds[i * batch_size:(i+1) * batch_size] =F.softmax(y_pred).detach().cpu().numpy()\n",
        "        avg_loss += loss.item() / len(train_loader)\n",
        "\n",
        "\n",
        "    y_pred_train = train_preds.argmax(axis=1)\n",
        "    train_accuracy = round(accuracy_score(y_pred_train,train_y)*100,3)\n",
        "\n",
        "    # Set model to validation configuration -Doesn't get trained here\n",
        "    model_cnn.eval()\n",
        "    avg_val_loss = 0.\n",
        "    val_preds = np.zeros((len(x_cv),len(le.classes_)))\n",
        "\n",
        "    for i, (x_batch, y_batch) in enumerate(valid_loader):\n",
        "        y_pred = model_cnn(x_batch).detach()\n",
        "        avg_val_loss += loss_fn(y_pred, y_batch).item() / len(valid_loader)\n",
        "        # keep/store predictions\n",
        "        val_preds[i * batch_size:(i+1) * batch_size] =F.softmax(y_pred).cpu().numpy()\n",
        "\n",
        "    # Determining Accuracy, Precision, Recall, F1 Score\n",
        "    y_pred = val_preds.argmax(axis=1)\n",
        "    test_accuracy = round(accuracy_score(y_pred,test_y)*100,3)\n",
        "    test_precision = round(precision_score(y_pred,test_y, average='weighted')*100,3)\n",
        "    test_recall = round(np.mean(recall_score(y_pred, test_y, average='weighted'))*100,3)\n",
        "    test_f1_score = round(f1_score(y_pred, test_y, average='weighted')*100,3)\n",
        "\n",
        "\n",
        "    # storing accuracy,precision,recall,f1 score data into list\n",
        "    cnn_train_loss.append(avg_loss)\n",
        "    cnn_valid_loss.append(avg_val_loss)\n",
        "    cnn_train_acc_list.append(train_accuracy)\n",
        "    cnn_test_acc_list.append(test_accuracy)\n",
        "    cnn_prec_list.append(test_precision)\n",
        "    cnn_recall_list.append(test_recall)\n",
        "    cnn_f1_list.append(test_f1_score)\n",
        "    elapsed_time = time.time() - start_time\n",
        "    print('Epoch {}/{}  Train loss={:.3f}   Test loss={:.3f}   Train Accuracy={:.3f}   Test Accuracy={:.3f}   Precision={:.3f}   Recall={:.3f}   F1 Score={:.3f}   time={:.2f} s'.format(\n",
        "                epoch + 1, n_epochs, avg_loss, avg_val_loss, train_accuracy, test_accuracy, test_precision, test_recall, test_f1_score, elapsed_time))"
      ],
      "execution_count": null,
      "outputs": [
        {
          "output_type": "stream",
          "name": "stdout",
          "text": [
            "Epoch 1/30  Train loss=1.472   Test loss=1.259   Train Accuracy=44.862   Test Accuracy=54.950   Precision=86.538   Recall=54.950   F1 Score=66.970   time=0.50 s\n",
            "Epoch 2/30  Train loss=1.053   Test loss=0.873   Train Accuracy=64.038   Test Accuracy=68.975   Precision=84.566   Recall=68.975   F1 Score=74.067   time=0.51 s\n",
            "Epoch 3/30  Train loss=0.744   Test loss=0.646   Train Accuracy=74.662   Test Accuracy=77.000   Precision=83.130   Recall=77.000   F1 Score=78.634   time=0.51 s\n",
            "Epoch 4/30  Train loss=0.559   Test loss=0.506   Train Accuracy=81.262   Test Accuracy=81.975   Precision=84.070   Recall=81.975   F1 Score=82.529   time=0.52 s\n",
            "Epoch 5/30  Train loss=0.451   Test loss=0.427   Train Accuracy=84.662   Test Accuracy=84.825   Precision=85.922   Recall=84.825   F1 Score=85.109   time=0.54 s\n",
            "Epoch 6/30  Train loss=0.376   Test loss=0.379   Train Accuracy=87.431   Test Accuracy=86.150   Precision=86.989   Recall=86.150   F1 Score=86.356   time=0.60 s\n",
            "Epoch 7/30  Train loss=0.324   Test loss=0.347   Train Accuracy=89.169   Test Accuracy=87.025   Precision=87.645   Recall=87.025   F1 Score=87.185   time=0.59 s\n",
            "Epoch 8/30  Train loss=0.289   Test loss=0.325   Train Accuracy=90.231   Test Accuracy=87.550   Precision=88.008   Recall=87.550   F1 Score=87.664   time=0.59 s\n",
            "Epoch 9/30  Train loss=0.257   Test loss=0.306   Train Accuracy=91.369   Test Accuracy=88.175   Precision=88.570   Recall=88.175   F1 Score=88.274   time=0.58 s\n",
            "Epoch 10/30  Train loss=0.234   Test loss=0.292   Train Accuracy=91.950   Test Accuracy=88.550   Precision=88.837   Recall=88.550   F1 Score=88.627   time=0.56 s\n",
            "Epoch 11/30  Train loss=0.212   Test loss=0.280   Train Accuracy=92.769   Test Accuracy=88.900   Precision=89.053   Recall=88.900   F1 Score=88.933   time=0.50 s\n",
            "Epoch 12/30  Train loss=0.195   Test loss=0.272   Train Accuracy=93.294   Test Accuracy=89.075   Precision=89.275   Recall=89.075   F1 Score=89.141   time=0.50 s\n",
            "Epoch 13/30  Train loss=0.179   Test loss=0.266   Train Accuracy=93.938   Test Accuracy=89.300   Precision=89.474   Recall=89.300   F1 Score=89.349   time=0.51 s\n",
            "Epoch 14/30  Train loss=0.168   Test loss=0.263   Train Accuracy=94.419   Test Accuracy=89.175   Precision=89.278   Recall=89.175   F1 Score=89.184   time=0.83 s\n",
            "Epoch 15/30  Train loss=0.156   Test loss=0.260   Train Accuracy=94.944   Test Accuracy=89.475   Precision=89.566   Recall=89.475   F1 Score=89.472   time=0.52 s\n",
            "Epoch 16/30  Train loss=0.141   Test loss=0.258   Train Accuracy=95.525   Test Accuracy=89.225   Precision=89.375   Recall=89.225   F1 Score=89.233   time=0.53 s\n",
            "Epoch 17/30  Train loss=0.131   Test loss=0.256   Train Accuracy=96.025   Test Accuracy=89.400   Precision=89.519   Recall=89.400   F1 Score=89.408   time=0.51 s\n",
            "Epoch 18/30  Train loss=0.124   Test loss=0.252   Train Accuracy=96.081   Test Accuracy=89.625   Precision=89.748   Recall=89.625   F1 Score=89.649   time=0.52 s\n",
            "Epoch 19/30  Train loss=0.116   Test loss=0.248   Train Accuracy=96.456   Test Accuracy=89.725   Precision=89.808   Recall=89.725   F1 Score=89.744   time=0.52 s\n",
            "Epoch 20/30  Train loss=0.109   Test loss=0.250   Train Accuracy=96.712   Test Accuracy=89.475   Precision=89.594   Recall=89.475   F1 Score=89.492   time=0.52 s\n",
            "Epoch 21/30  Train loss=0.104   Test loss=0.249   Train Accuracy=96.906   Test Accuracy=89.850   Precision=89.962   Recall=89.850   F1 Score=89.869   time=0.52 s\n",
            "Epoch 22/30  Train loss=0.097   Test loss=0.253   Train Accuracy=97.144   Test Accuracy=89.725   Precision=89.928   Recall=89.725   F1 Score=89.760   time=0.51 s\n",
            "Epoch 23/30  Train loss=0.091   Test loss=0.248   Train Accuracy=97.512   Test Accuracy=90.025   Precision=90.147   Recall=90.025   F1 Score=90.062   time=0.52 s\n",
            "Epoch 24/30  Train loss=0.084   Test loss=0.247   Train Accuracy=97.694   Test Accuracy=89.925   Precision=89.975   Recall=89.925   F1 Score=89.930   time=0.52 s\n",
            "Epoch 25/30  Train loss=0.080   Test loss=0.249   Train Accuracy=97.788   Test Accuracy=90.175   Precision=90.330   Recall=90.175   F1 Score=90.231   time=0.50 s\n",
            "Epoch 26/30  Train loss=0.077   Test loss=0.249   Train Accuracy=97.875   Test Accuracy=90.050   Precision=90.093   Recall=90.050   F1 Score=90.055   time=0.51 s\n",
            "Epoch 27/30  Train loss=0.072   Test loss=0.252   Train Accuracy=98.181   Test Accuracy=89.975   Precision=89.986   Recall=89.975   F1 Score=89.957   time=0.51 s\n",
            "Epoch 28/30  Train loss=0.072   Test loss=0.261   Train Accuracy=98.044   Test Accuracy=89.775   Precision=89.789   Recall=89.775   F1 Score=89.724   time=0.50 s\n",
            "Epoch 29/30  Train loss=0.069   Test loss=0.261   Train Accuracy=98.319   Test Accuracy=90.025   Precision=90.058   Recall=90.025   F1 Score=89.989   time=0.54 s\n",
            "Epoch 30/30  Train loss=0.064   Test loss=0.256   Train Accuracy=98.438   Test Accuracy=90.000   Precision=89.992   Recall=90.000   F1 Score=89.987   time=0.59 s\n"
          ]
        }
      ]
    },
    {
      "cell_type": "code",
      "source": [
        "from sklearn.metrics import classification_report\n",
        "\n",
        "# Set the model to evaluation mode\n",
        "model.eval()\n",
        "\n",
        "# Make predictions on the test set\n",
        "with torch.no_grad():\n",
        "    test_preds = model(torch.tensor(test_X, dtype=torch.long).to(device))\n",
        "\n",
        "# Convert the predictions to class labels\n",
        "predicted_labels = torch.argmax(test_preds, axis=1).cpu().numpy()\n",
        "\n",
        "# Print the classification report\n",
        "print(\"BiLSTM Classification Report:\\n\", classification_report(test_y, predicted_labels, target_names=le.classes_))\n"
      ],
      "metadata": {
        "colab": {
          "base_uri": "https://localhost:8080/"
        },
        "id": "dgEjosWHehD3",
        "outputId": "9c96aaac-be22-4604-c38a-51858e6b2c4c"
      },
      "execution_count": null,
      "outputs": [
        {
          "output_type": "stream",
          "name": "stdout",
          "text": [
            "BiLSTM Classification Report:\n",
            "               precision    recall  f1-score   support\n",
            "\n",
            "       anger       0.91      0.94      0.92       542\n",
            "        fear       0.92      0.85      0.88       475\n",
            "         joy       0.95      0.93      0.94      1352\n",
            "        love       0.86      0.87      0.86       328\n",
            "     sadness       0.94      0.97      0.95      1159\n",
            "    surprise       0.75      0.81      0.78       144\n",
            "\n",
            "    accuracy                           0.92      4000\n",
            "   macro avg       0.89      0.89      0.89      4000\n",
            "weighted avg       0.92      0.92      0.92      4000\n",
            "\n"
          ]
        }
      ]
    },
    {
      "cell_type": "code",
      "source": [
        "from sklearn.metrics import classification_report\n",
        "\n",
        "# Set the model to evaluation mode\n",
        "model_cnn.eval()\n",
        "\n",
        "# Make predictions on the test set\n",
        "with torch.no_grad():\n",
        "    test_preds_cnn = model_cnn(torch.tensor(test_X, dtype=torch.long).to(device))\n",
        "\n",
        "# Convert the predictions to class labels\n",
        "predicted_labels_cnn = torch.argmax(test_preds_cnn, axis=1).cpu().numpy()\n",
        "\n",
        "# Print the classification report\n",
        "print(\"CNN Classification Report:\\n\", classification_report(test_y, predicted_labels_cnn, target_names=le.classes_))\n"
      ],
      "metadata": {
        "colab": {
          "base_uri": "https://localhost:8080/"
        },
        "id": "TFnBysLYhjoh",
        "outputId": "8e4644d4-dffa-42fc-d25e-b6c8a895002b"
      },
      "execution_count": null,
      "outputs": [
        {
          "output_type": "stream",
          "name": "stdout",
          "text": [
            "CNN Classification Report:\n",
            "               precision    recall  f1-score   support\n",
            "\n",
            "       anger       0.91      0.91      0.91       542\n",
            "        fear       0.86      0.88      0.87       475\n",
            "         joy       0.92      0.92      0.92      1352\n",
            "        love       0.80      0.84      0.82       328\n",
            "     sadness       0.94      0.92      0.93      1159\n",
            "    surprise       0.77      0.73      0.75       144\n",
            "\n",
            "    accuracy                           0.90      4000\n",
            "   macro avg       0.87      0.87      0.87      4000\n",
            "weighted avg       0.90      0.90      0.90      4000\n",
            "\n"
          ]
        }
      ]
    },
    {
      "cell_type": "code",
      "source": [
        "import seaborn as sns\n",
        "\n",
        "def plot_confusion_matrix(y_true, y_pred, classes, model_name):\n",
        "    cm = confusion_matrix(y_true, y_pred)\n",
        "    plt.figure(figsize=(7, 5))\n",
        "    sns.heatmap(cm, annot=True, fmt='d', cmap='Blues', xticklabels=classes, yticklabels=classes)\n",
        "    plt.xlabel('Predicted')\n",
        "    plt.ylabel('True')\n",
        "    plt.title(f'Confusion Matrix - {model_name}')\n",
        "    plt.show()\n",
        "\n",
        "# BiLSTM Confusion Matrix\n",
        "plot_confusion_matrix(test_y, predicted_labels, le.classes_, 'BiLSTM')\n",
        "\n",
        "# CNN Confusion Matrix\n",
        "plot_confusion_matrix(test_y, predicted_labels_cnn, le.classes_, 'CNN')\n"
      ],
      "metadata": {
        "id": "FQUlZYeLxD0L",
        "colab": {
          "base_uri": "https://localhost:8080/",
          "height": 957
        },
        "outputId": "8f3708d9-8cbe-4c9d-f523-7b0c509ec28e"
      },
      "execution_count": null,
      "outputs": [
        {
          "output_type": "display_data",
          "data": {
            "text/plain": [
              "<Figure size 700x500 with 2 Axes>"
            ],
            "image/png": "[encoded data removed]"
          },
          "metadata": {}
        },
        {
          "output_type": "display_data",
          "data": {
            "text/plain": [
              "<Figure size 700x500 with 2 Axes>"
            ],
            "image/png": "[encoded data removed]"
          },
          "metadata": {}
        }
      ]
    },
    {
      "cell_type": "code",
      "source": [
        "# BiLSTM Loss Curve\n",
        "plt.figure(figsize=(8, 6))\n",
        "plt.plot(train_loss, label='BiLSTM Training Loss')\n",
        "plt.plot(valid_loss, label='BiLSTM Validation Loss')\n",
        "plt.title('BiLSTM Loss Curve')\n",
        "plt.xlabel('Epochs')\n",
        "plt.ylabel('Loss')\n",
        "plt.legend()\n",
        "plt.show()\n",
        "\n",
        "# CNN Loss Curve\n",
        "plt.figure(figsize=(8, 6))\n",
        "plt.plot(cnn_train_loss, label='CNN Training Loss')\n",
        "plt.plot(cnn_valid_loss, label='CNN Validation Loss')\n",
        "plt.title('CNN Loss Curve')\n",
        "plt.xlabel('Epochs')\n",
        "plt.ylabel('Loss')\n",
        "plt.legend()\n",
        "plt.show()\n"
      ],
      "metadata": {
        "colab": {
          "base_uri": "https://localhost:8080/",
          "height": 1000
        },
        "id": "yfF3KHQ1x1pY",
        "outputId": "9afac223-ea84-4954-cf8c-bdf3f1abebd4"
      },
      "execution_count": null,
      "outputs": [
        {
          "output_type": "display_data",
          "data": {
            "text/plain": [
              "<Figure size 800x600 with 1 Axes>"
            ],
            "image/png": "[encoded data removed]"
          },
          "metadata": {}
        },
        {
          "output_type": "display_data",
          "data": {
            "text/plain": [
              "<Figure size 800x600 with 1 Axes>"
            ],
            "image/png": "[encoded data removed]"
          },
          "metadata": {}
        }
      ]
    },
    {
      "cell_type": "code",
      "source": [
        "# Assuming you have already trained the BERT model and collected the training loss and validation loss\n",
        "\n",
        "# Plot the loss curve\n",
        "plt.figure(figsize=(8, 6))\n",
        "plt.plot(train_loss, label='BERT Training Loss')\n",
        "plt.plot(valid_loss, label='BERT Validation Loss')\n",
        "plt.title('BERT Loss Curve')\n",
        "plt.xlabel('Epochs')\n",
        "plt.ylabel('Loss')\n",
        "plt.legend()\n",
        "plt.show()\n"
      ],
      "metadata": {
        "colab": {
          "base_uri": "https://localhost:8080/",
          "height": 564
        },
        "id": "u3iy71PfyTXr",
        "outputId": "4a923363-de87-4be3-b03c-b644a996d2c8"
      },
      "execution_count": null,
      "outputs": [
        {
          "output_type": "display_data",
          "data": {
            "text/plain": [
              "<Figure size 800x600 with 1 Axes>"
            ],
            "image/png": "[encoded data removed]"
          },
          "metadata": {}
        }
      ]
    },
    {
      "cell_type": "code",
      "source": [
        "def predict_single(x):\n",
        "    x = text_preprocessing(x)\n",
        "    # tokenize\n",
        "    x = tokenizer.texts_to_sequences([x])\n",
        "    # pad\n",
        "    x = pad_sequences(x, maxlen=maxlen)\n",
        "    # create dataset\n",
        "    x = torch.tensor(x, dtype=torch.long).to(device)\n",
        "\n",
        "    pred_cnn = model_cnn(x).detach()\n",
        "    pred_cnn = F.softmax(pred_cnn).cpu().numpy()\n",
        "    pred_cnn = pred_cnn.argmax(axis=1)\n",
        "    pred_cnn = le.classes_[pred_cnn]\n",
        "\n",
        "    pred_bilstm = model(x).detach()\n",
        "    pred_bilstm = F.softmax(pred_bilstm).cpu().numpy()\n",
        "    pred_bilstm = pred_bilstm.argmax(axis=1)\n",
        "    pred_bilstm = le.classes_[pred_bilstm]\n",
        "    return pred_cnn[0],pred_bilstm[0]\n",
        "input_string = input('Input Text: ')\n",
        "cnn_pred, bilstm_pred = predict_single(input_string)\n",
        "print('Emotion using CNN:',cnn_pred)\n",
        "print('Emotion using BiLSTM:',bilstm_pred)"
      ],
      "metadata": {
        "colab": {
          "base_uri": "https://localhost:8080/"
        },
        "id": "xWhOoY6t0MgJ",
        "outputId": "ae907641-8d70-43e5-80e5-33a897142b1a"
      },
      "execution_count": null,
      "outputs": [
        {
          "output_type": "stream",
          "name": "stdout",
          "text": [
            "Input Text: i feel like a miserable piece of garbage\n",
            "Emotion using CNN: sadness\n",
            "Emotion using BiLSTM: sadness\n"
          ]
        }
      ]
    }
  ]
}